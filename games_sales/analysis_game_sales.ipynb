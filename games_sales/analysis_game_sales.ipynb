{
 "cells": [
  {
   "cell_type": "markdown",
   "id": "8c020a1b",
   "metadata": {},
   "source": [
    "## Исследование продаж по видео играм"
   ]
  },
  {
   "cell_type": "markdown",
   "id": "77b18ac3",
   "metadata": {},
   "source": [
    "<img src='games.jpg' style='width:500px;height:350px'/>"
   ]
  },
  {
   "cell_type": "markdown",
   "id": "a82aed55",
   "metadata": {},
   "source": [
    " В комании \"Тралала\", которая является ведущей в области анализа игр, пришел некоторый заказ на исследование. В котором необходимо найти/рассчитать следующие показатели:\n",
    "\n",
    " 1. Выполнить поиск игры/игр, которую/ые выпускали на максимальном числе данных нам платформ;\n",
    " 2. Рассчитать топ-3 и антитоп-3 издателя по количеству дохода используя данные Северной Америки и Японии;\n",
    " 3. Рассчитать на какую платформу выпустили больше всего игр;\n",
    " 4. Вычислить сколько денег принесла каждая игра в общемировом масштабе;\n",
    " 5. Изобразить как росло количество издаваемых игр каждый год."
   ]
  },
  {
   "cell_type": "markdown",
   "id": "50d574cd",
   "metadata": {},
   "source": [
    "## Загрузка данных и подготовка к анализу"
   ]
  },
  {
   "cell_type": "code",
   "execution_count": 2,
   "id": "b55968d3",
   "metadata": {},
   "outputs": [],
   "source": [
    "import pandas as pd\n",
    "import numpy as np\n",
    "import matplotlib.pyplot as plt\n",
    "import seaborn as sns\n",
    "\n",
    "sns.set_style('darkgrid')"
   ]
  },
  {
   "cell_type": "code",
   "execution_count": 3,
   "id": "2aecc4ee",
   "metadata": {},
   "outputs": [
    {
     "name": "stdout",
     "output_type": "stream",
     "text": [
      "Данные успешно загружены\n"
     ]
    }
   ],
   "source": [
    "try:\n",
    "    df_sales = pd.read_csv('game_sales.csv')\n",
    "except:\n",
    "    print('Ошибка, проверьте правильность заполненных данных')\n",
    "else:\n",
    "    print('Данные успешно загружены')\n"
   ]
  },
  {
   "cell_type": "code",
   "execution_count": 43,
   "id": "f9d71788",
   "metadata": {},
   "outputs": [],
   "source": [
    "def get_info(data):\n",
    "    display(data.head().style.set_caption('Общая информация по датасету'))\n",
    "    display(data.describe().T)\n",
    "    print('----')\n",
    "    print('Информация о пропусках и типах данных')\n",
    "    print('----')\n",
    "    print()\n",
    "    display(data.info())\n",
    "    print('----')\n",
    "    print()"
   ]
  },
  {
   "cell_type": "code",
   "execution_count": 45,
   "id": "9449ba59",
   "metadata": {},
   "outputs": [
    {
     "data": {
      "text/html": [
       "<style type=\"text/css\">\n",
       "</style>\n",
       "<table id=\"T_2709e\">\n",
       "  <caption>Общая информация по датасету</caption>\n",
       "  <thead>\n",
       "    <tr>\n",
       "      <th class=\"blank level0\" >&nbsp;</th>\n",
       "      <th id=\"T_2709e_level0_col0\" class=\"col_heading level0 col0\" >Name</th>\n",
       "      <th id=\"T_2709e_level0_col1\" class=\"col_heading level0 col1\" >Platform</th>\n",
       "      <th id=\"T_2709e_level0_col2\" class=\"col_heading level0 col2\" >Year</th>\n",
       "      <th id=\"T_2709e_level0_col3\" class=\"col_heading level0 col3\" >Genre</th>\n",
       "      <th id=\"T_2709e_level0_col4\" class=\"col_heading level0 col4\" >Publisher</th>\n",
       "      <th id=\"T_2709e_level0_col5\" class=\"col_heading level0 col5\" >NA_Sales</th>\n",
       "      <th id=\"T_2709e_level0_col6\" class=\"col_heading level0 col6\" >EU_Sales</th>\n",
       "      <th id=\"T_2709e_level0_col7\" class=\"col_heading level0 col7\" >JP_Sales</th>\n",
       "      <th id=\"T_2709e_level0_col8\" class=\"col_heading level0 col8\" >Other_Sales</th>\n",
       "    </tr>\n",
       "  </thead>\n",
       "  <tbody>\n",
       "    <tr>\n",
       "      <th id=\"T_2709e_level0_row0\" class=\"row_heading level0 row0\" >0</th>\n",
       "      <td id=\"T_2709e_row0_col0\" class=\"data row0 col0\" >Wii Sports</td>\n",
       "      <td id=\"T_2709e_row0_col1\" class=\"data row0 col1\" >Wii</td>\n",
       "      <td id=\"T_2709e_row0_col2\" class=\"data row0 col2\" >2006.000000</td>\n",
       "      <td id=\"T_2709e_row0_col3\" class=\"data row0 col3\" >Sports</td>\n",
       "      <td id=\"T_2709e_row0_col4\" class=\"data row0 col4\" >Nintendo</td>\n",
       "      <td id=\"T_2709e_row0_col5\" class=\"data row0 col5\" >41.490000</td>\n",
       "      <td id=\"T_2709e_row0_col6\" class=\"data row0 col6\" >29.020000</td>\n",
       "      <td id=\"T_2709e_row0_col7\" class=\"data row0 col7\" >3.770000</td>\n",
       "      <td id=\"T_2709e_row0_col8\" class=\"data row0 col8\" >8.460000</td>\n",
       "    </tr>\n",
       "    <tr>\n",
       "      <th id=\"T_2709e_level0_row1\" class=\"row_heading level0 row1\" >1</th>\n",
       "      <td id=\"T_2709e_row1_col0\" class=\"data row1 col0\" >Super Mario Bros.</td>\n",
       "      <td id=\"T_2709e_row1_col1\" class=\"data row1 col1\" >NES</td>\n",
       "      <td id=\"T_2709e_row1_col2\" class=\"data row1 col2\" >1985.000000</td>\n",
       "      <td id=\"T_2709e_row1_col3\" class=\"data row1 col3\" >Platform</td>\n",
       "      <td id=\"T_2709e_row1_col4\" class=\"data row1 col4\" >Nintendo</td>\n",
       "      <td id=\"T_2709e_row1_col5\" class=\"data row1 col5\" >29.080000</td>\n",
       "      <td id=\"T_2709e_row1_col6\" class=\"data row1 col6\" >3.580000</td>\n",
       "      <td id=\"T_2709e_row1_col7\" class=\"data row1 col7\" >6.810000</td>\n",
       "      <td id=\"T_2709e_row1_col8\" class=\"data row1 col8\" >0.770000</td>\n",
       "    </tr>\n",
       "    <tr>\n",
       "      <th id=\"T_2709e_level0_row2\" class=\"row_heading level0 row2\" >2</th>\n",
       "      <td id=\"T_2709e_row2_col0\" class=\"data row2 col0\" >Mario Kart Wii</td>\n",
       "      <td id=\"T_2709e_row2_col1\" class=\"data row2 col1\" >Wii</td>\n",
       "      <td id=\"T_2709e_row2_col2\" class=\"data row2 col2\" >2008.000000</td>\n",
       "      <td id=\"T_2709e_row2_col3\" class=\"data row2 col3\" >Racing</td>\n",
       "      <td id=\"T_2709e_row2_col4\" class=\"data row2 col4\" >Nintendo</td>\n",
       "      <td id=\"T_2709e_row2_col5\" class=\"data row2 col5\" >15.850000</td>\n",
       "      <td id=\"T_2709e_row2_col6\" class=\"data row2 col6\" >12.880000</td>\n",
       "      <td id=\"T_2709e_row2_col7\" class=\"data row2 col7\" >3.790000</td>\n",
       "      <td id=\"T_2709e_row2_col8\" class=\"data row2 col8\" >3.310000</td>\n",
       "    </tr>\n",
       "    <tr>\n",
       "      <th id=\"T_2709e_level0_row3\" class=\"row_heading level0 row3\" >3</th>\n",
       "      <td id=\"T_2709e_row3_col0\" class=\"data row3 col0\" >Wii Sports Resort</td>\n",
       "      <td id=\"T_2709e_row3_col1\" class=\"data row3 col1\" >Wii</td>\n",
       "      <td id=\"T_2709e_row3_col2\" class=\"data row3 col2\" >2009.000000</td>\n",
       "      <td id=\"T_2709e_row3_col3\" class=\"data row3 col3\" >Sports</td>\n",
       "      <td id=\"T_2709e_row3_col4\" class=\"data row3 col4\" >Nintendo</td>\n",
       "      <td id=\"T_2709e_row3_col5\" class=\"data row3 col5\" >15.750000</td>\n",
       "      <td id=\"T_2709e_row3_col6\" class=\"data row3 col6\" >11.010000</td>\n",
       "      <td id=\"T_2709e_row3_col7\" class=\"data row3 col7\" >3.280000</td>\n",
       "      <td id=\"T_2709e_row3_col8\" class=\"data row3 col8\" >2.960000</td>\n",
       "    </tr>\n",
       "    <tr>\n",
       "      <th id=\"T_2709e_level0_row4\" class=\"row_heading level0 row4\" >4</th>\n",
       "      <td id=\"T_2709e_row4_col0\" class=\"data row4 col0\" >Pokemon Red/Pokemon Blue</td>\n",
       "      <td id=\"T_2709e_row4_col1\" class=\"data row4 col1\" >GB</td>\n",
       "      <td id=\"T_2709e_row4_col2\" class=\"data row4 col2\" >1996.000000</td>\n",
       "      <td id=\"T_2709e_row4_col3\" class=\"data row4 col3\" >Role-Playing</td>\n",
       "      <td id=\"T_2709e_row4_col4\" class=\"data row4 col4\" >Nintendo</td>\n",
       "      <td id=\"T_2709e_row4_col5\" class=\"data row4 col5\" >11.270000</td>\n",
       "      <td id=\"T_2709e_row4_col6\" class=\"data row4 col6\" >8.890000</td>\n",
       "      <td id=\"T_2709e_row4_col7\" class=\"data row4 col7\" >10.220000</td>\n",
       "      <td id=\"T_2709e_row4_col8\" class=\"data row4 col8\" >1.000000</td>\n",
       "    </tr>\n",
       "  </tbody>\n",
       "</table>\n"
      ],
      "text/plain": [
       "<pandas.io.formats.style.Styler at 0x7fb91c659f10>"
      ]
     },
     "metadata": {},
     "output_type": "display_data"
    },
    {
     "data": {
      "text/html": [
       "<div>\n",
       "<style scoped>\n",
       "    .dataframe tbody tr th:only-of-type {\n",
       "        vertical-align: middle;\n",
       "    }\n",
       "\n",
       "    .dataframe tbody tr th {\n",
       "        vertical-align: top;\n",
       "    }\n",
       "\n",
       "    .dataframe thead th {\n",
       "        text-align: right;\n",
       "    }\n",
       "</style>\n",
       "<table border=\"1\" class=\"dataframe\">\n",
       "  <thead>\n",
       "    <tr style=\"text-align: right;\">\n",
       "      <th></th>\n",
       "      <th>count</th>\n",
       "      <th>mean</th>\n",
       "      <th>std</th>\n",
       "      <th>min</th>\n",
       "      <th>25%</th>\n",
       "      <th>50%</th>\n",
       "      <th>75%</th>\n",
       "      <th>max</th>\n",
       "    </tr>\n",
       "  </thead>\n",
       "  <tbody>\n",
       "    <tr>\n",
       "      <th>Year</th>\n",
       "      <td>16327.0</td>\n",
       "      <td>2006.406443</td>\n",
       "      <td>5.828981</td>\n",
       "      <td>1980.0</td>\n",
       "      <td>2003.0</td>\n",
       "      <td>2007.00</td>\n",
       "      <td>2010.00</td>\n",
       "      <td>2020.00</td>\n",
       "    </tr>\n",
       "    <tr>\n",
       "      <th>NA_Sales</th>\n",
       "      <td>16598.0</td>\n",
       "      <td>0.264667</td>\n",
       "      <td>0.816683</td>\n",
       "      <td>0.0</td>\n",
       "      <td>0.0</td>\n",
       "      <td>0.08</td>\n",
       "      <td>0.24</td>\n",
       "      <td>41.49</td>\n",
       "    </tr>\n",
       "    <tr>\n",
       "      <th>EU_Sales</th>\n",
       "      <td>16598.0</td>\n",
       "      <td>0.146652</td>\n",
       "      <td>0.505351</td>\n",
       "      <td>0.0</td>\n",
       "      <td>0.0</td>\n",
       "      <td>0.02</td>\n",
       "      <td>0.11</td>\n",
       "      <td>29.02</td>\n",
       "    </tr>\n",
       "    <tr>\n",
       "      <th>JP_Sales</th>\n",
       "      <td>16598.0</td>\n",
       "      <td>0.077782</td>\n",
       "      <td>0.309291</td>\n",
       "      <td>0.0</td>\n",
       "      <td>0.0</td>\n",
       "      <td>0.00</td>\n",
       "      <td>0.04</td>\n",
       "      <td>10.22</td>\n",
       "    </tr>\n",
       "    <tr>\n",
       "      <th>Other_Sales</th>\n",
       "      <td>16598.0</td>\n",
       "      <td>0.048063</td>\n",
       "      <td>0.188588</td>\n",
       "      <td>0.0</td>\n",
       "      <td>0.0</td>\n",
       "      <td>0.01</td>\n",
       "      <td>0.04</td>\n",
       "      <td>10.57</td>\n",
       "    </tr>\n",
       "  </tbody>\n",
       "</table>\n",
       "</div>"
      ],
      "text/plain": [
       "               count         mean       std     min     25%      50%      75%  \\\n",
       "Year         16327.0  2006.406443  5.828981  1980.0  2003.0  2007.00  2010.00   \n",
       "NA_Sales     16598.0     0.264667  0.816683     0.0     0.0     0.08     0.24   \n",
       "EU_Sales     16598.0     0.146652  0.505351     0.0     0.0     0.02     0.11   \n",
       "JP_Sales     16598.0     0.077782  0.309291     0.0     0.0     0.00     0.04   \n",
       "Other_Sales  16598.0     0.048063  0.188588     0.0     0.0     0.01     0.04   \n",
       "\n",
       "                 max  \n",
       "Year         2020.00  \n",
       "NA_Sales       41.49  \n",
       "EU_Sales       29.02  \n",
       "JP_Sales       10.22  \n",
       "Other_Sales    10.57  "
      ]
     },
     "metadata": {},
     "output_type": "display_data"
    },
    {
     "name": "stdout",
     "output_type": "stream",
     "text": [
      "----\n",
      "Информация о пропусках и типах данных\n",
      "----\n",
      "\n",
      "<class 'pandas.core.frame.DataFrame'>\n",
      "RangeIndex: 16598 entries, 0 to 16597\n",
      "Data columns (total 9 columns):\n",
      " #   Column       Non-Null Count  Dtype  \n",
      "---  ------       --------------  -----  \n",
      " 0   Name         16598 non-null  object \n",
      " 1   Platform     16598 non-null  object \n",
      " 2   Year         16327 non-null  float64\n",
      " 3   Genre        16598 non-null  object \n",
      " 4   Publisher    16540 non-null  object \n",
      " 5   NA_Sales     16598 non-null  float64\n",
      " 6   EU_Sales     16598 non-null  float64\n",
      " 7   JP_Sales     16598 non-null  float64\n",
      " 8   Other_Sales  16598 non-null  float64\n",
      "dtypes: float64(5), object(4)\n",
      "memory usage: 1.1+ MB\n"
     ]
    },
    {
     "data": {
      "text/plain": [
       "None"
      ]
     },
     "metadata": {},
     "output_type": "display_data"
    },
    {
     "name": "stdout",
     "output_type": "stream",
     "text": [
      "----\n",
      "\n"
     ]
    }
   ],
   "source": [
    "get_info(df_sales)"
   ]
  },
  {
   "cell_type": "markdown",
   "id": "e34b1af4",
   "metadata": {},
   "source": [
    "-------------------------------------\n",
    "\n",
    "df_sales — результат запроса. В нём содержится следующая информация:\n",
    "\n",
    "- Name - Название игры\n",
    "- Platform - Платформа выпуска игры (т.е. PC, PS4 и т.д.)\n",
    "- Year - Год выпуска игры\n",
    "- Genre - Жанр игры\n",
    "- Publisher - Издатель игры\n",
    "- NA_Sales - Продажи в Северной Америке (в миллионах)\n",
    "- EU_Sales - Продажи в Европе (в миллионах)\n",
    "- JP_Sales - Продажи в Японии (в миллионах)\n",
    "- Other_Sales - Продажи в остальном мире (в миллионах)\n",
    "\n",
    "Пропуски наблюдаются в колонках 'Year' - 271 и 'Publisher' - 58, в тестовом на исследование указали, что если строк без значений меньше 350, то можно их будет удалить. Странно, но последуем и удалим их. Особой необходимости преобразовывать типы нет, для даты в нашем случае будет подходить и тип float, но для удобства можно преобразовать в int.\n",
    "\n",
    "Для количества продаж устраивает float64 - вещественные числа. Можно немного уменьшить занимаемую память, понизив тип до float16.\n",
    "\n",
    "-------------------------------------"
   ]
  },
  {
   "cell_type": "code",
   "execution_count": 4,
   "id": "7120bb48",
   "metadata": {},
   "outputs": [],
   "source": [
    "df_sales = df_sales.dropna() # удаление колонок с nan значениями\n",
    "df_sales = df_sales.astype({ 'Year': 'int16',\n",
    "                             'NA_Sales': 'float16', \n",
    "                             'EU_Sales': 'float16', \n",
    "                             'JP_Sales': 'float16', \n",
    "                             'Other_Sales': 'float16'}) # понижение используемой памяти"
   ]
  },
  {
   "cell_type": "code",
   "execution_count": 113,
   "id": "2872e531",
   "metadata": {},
   "outputs": [
    {
     "name": "stdout",
     "output_type": "stream",
     "text": [
      "<class 'pandas.core.frame.DataFrame'>\n",
      "Int64Index: 16291 entries, 0 to 16597\n",
      "Data columns (total 9 columns):\n",
      " #   Column       Non-Null Count  Dtype  \n",
      "---  ------       --------------  -----  \n",
      " 0   Name         16291 non-null  object \n",
      " 1   Platform     16291 non-null  object \n",
      " 2   Year         16291 non-null  int16  \n",
      " 3   Genre        16291 non-null  object \n",
      " 4   Publisher    16291 non-null  object \n",
      " 5   NA_Sales     16291 non-null  float16\n",
      " 6   EU_Sales     16291 non-null  float16\n",
      " 7   JP_Sales     16291 non-null  float16\n",
      " 8   Other_Sales  16291 non-null  float16\n",
      "dtypes: float16(4), int16(1), object(4)\n",
      "memory usage: 795.5+ KB\n"
     ]
    }
   ],
   "source": [
    "df_sales.info()"
   ]
  },
  {
   "cell_type": "markdown",
   "id": "c61e1cf0",
   "metadata": {},
   "source": [
    "-------------------------------------\n",
    "Незначительно сэкономили занимаемую память и избавились от nan значений.\n",
    "\n",
    "-------------------------------------"
   ]
  },
  {
   "cell_type": "markdown",
   "id": "b7bfb4af",
   "metadata": {},
   "source": [
    "## 1. Выполнить поиск игры/игр, которую/ые выпускали на максимальном числе данных нам платформ."
   ]
  },
  {
   "cell_type": "code",
   "execution_count": 210,
   "id": "4ad2a66a",
   "metadata": {},
   "outputs": [
    {
     "data": {
      "text/html": [
       "<div>\n",
       "<style scoped>\n",
       "    .dataframe tbody tr th:only-of-type {\n",
       "        vertical-align: middle;\n",
       "    }\n",
       "\n",
       "    .dataframe tbody tr th {\n",
       "        vertical-align: top;\n",
       "    }\n",
       "\n",
       "    .dataframe thead th {\n",
       "        text-align: right;\n",
       "    }\n",
       "</style>\n",
       "<table border=\"1\" class=\"dataframe\">\n",
       "  <thead>\n",
       "    <tr style=\"text-align: right;\">\n",
       "      <th></th>\n",
       "      <th>Name</th>\n",
       "      <th>Platform</th>\n",
       "      <th>Year</th>\n",
       "      <th>Genre</th>\n",
       "      <th>Publisher</th>\n",
       "      <th>NA_Sales</th>\n",
       "      <th>EU_Sales</th>\n",
       "      <th>JP_Sales</th>\n",
       "      <th>Other_Sales</th>\n",
       "    </tr>\n",
       "  </thead>\n",
       "  <tbody>\n",
       "    <tr>\n",
       "      <th>252</th>\n",
       "      <td>Need for Speed: Most Wanted</td>\n",
       "      <td>PS2</td>\n",
       "      <td>2005</td>\n",
       "      <td>Racing</td>\n",
       "      <td>Electronic Arts</td>\n",
       "      <td>2.029297</td>\n",
       "      <td>1.790039</td>\n",
       "      <td>0.080017</td>\n",
       "      <td>0.469971</td>\n",
       "    </tr>\n",
       "    <tr>\n",
       "      <th>1530</th>\n",
       "      <td>Need for Speed: Most Wanted</td>\n",
       "      <td>X360</td>\n",
       "      <td>2005</td>\n",
       "      <td>Racing</td>\n",
       "      <td>Electronic Arts</td>\n",
       "      <td>1.000000</td>\n",
       "      <td>0.170044</td>\n",
       "      <td>0.020004</td>\n",
       "      <td>0.099976</td>\n",
       "    </tr>\n",
       "    <tr>\n",
       "      <th>2005</th>\n",
       "      <td>Need for Speed: Most Wanted</td>\n",
       "      <td>XB</td>\n",
       "      <td>2005</td>\n",
       "      <td>Racing</td>\n",
       "      <td>Electronic Arts</td>\n",
       "      <td>0.529785</td>\n",
       "      <td>0.459961</td>\n",
       "      <td>0.000000</td>\n",
       "      <td>0.049988</td>\n",
       "    </tr>\n",
       "    <tr>\n",
       "      <th>3585</th>\n",
       "      <td>Need for Speed: Most Wanted</td>\n",
       "      <td>GC</td>\n",
       "      <td>2005</td>\n",
       "      <td>Racing</td>\n",
       "      <td>Electronic Arts</td>\n",
       "      <td>0.429932</td>\n",
       "      <td>0.109985</td>\n",
       "      <td>0.000000</td>\n",
       "      <td>0.020004</td>\n",
       "    </tr>\n",
       "    <tr>\n",
       "      <th>5900</th>\n",
       "      <td>Need for Speed: Most Wanted</td>\n",
       "      <td>PC</td>\n",
       "      <td>2005</td>\n",
       "      <td>Racing</td>\n",
       "      <td>Electronic Arts</td>\n",
       "      <td>0.020004</td>\n",
       "      <td>0.229980</td>\n",
       "      <td>0.000000</td>\n",
       "      <td>0.049988</td>\n",
       "    </tr>\n",
       "    <tr>\n",
       "      <th>6278</th>\n",
       "      <td>Need for Speed: Most Wanted</td>\n",
       "      <td>DS</td>\n",
       "      <td>2005</td>\n",
       "      <td>Racing</td>\n",
       "      <td>Electronic Arts</td>\n",
       "      <td>0.239990</td>\n",
       "      <td>0.010002</td>\n",
       "      <td>0.000000</td>\n",
       "      <td>0.020004</td>\n",
       "    </tr>\n",
       "    <tr>\n",
       "      <th>6492</th>\n",
       "      <td>Need for Speed: Most Wanted</td>\n",
       "      <td>GBA</td>\n",
       "      <td>2005</td>\n",
       "      <td>Racing</td>\n",
       "      <td>Electronic Arts</td>\n",
       "      <td>0.189941</td>\n",
       "      <td>0.070007</td>\n",
       "      <td>0.000000</td>\n",
       "      <td>0.000000</td>\n",
       "    </tr>\n",
       "    <tr>\n",
       "      <th>498</th>\n",
       "      <td>Need for Speed: Most Wanted</td>\n",
       "      <td>PS3</td>\n",
       "      <td>2012</td>\n",
       "      <td>Racing</td>\n",
       "      <td>Electronic Arts</td>\n",
       "      <td>0.709961</td>\n",
       "      <td>1.509766</td>\n",
       "      <td>0.059998</td>\n",
       "      <td>0.609863</td>\n",
       "    </tr>\n",
       "    <tr>\n",
       "      <th>1173</th>\n",
       "      <td>Need for Speed: Most Wanted</td>\n",
       "      <td>X360</td>\n",
       "      <td>2012</td>\n",
       "      <td>Racing</td>\n",
       "      <td>Electronic Arts</td>\n",
       "      <td>0.620117</td>\n",
       "      <td>0.799805</td>\n",
       "      <td>0.010002</td>\n",
       "      <td>0.150024</td>\n",
       "    </tr>\n",
       "    <tr>\n",
       "      <th>1742</th>\n",
       "      <td>Need for Speed: Most Wanted</td>\n",
       "      <td>PSV</td>\n",
       "      <td>2012</td>\n",
       "      <td>Racing</td>\n",
       "      <td>Electronic Arts</td>\n",
       "      <td>0.379883</td>\n",
       "      <td>0.520020</td>\n",
       "      <td>0.010002</td>\n",
       "      <td>0.250000</td>\n",
       "    </tr>\n",
       "    <tr>\n",
       "      <th>11676</th>\n",
       "      <td>Need for Speed: Most Wanted</td>\n",
       "      <td>PC</td>\n",
       "      <td>2012</td>\n",
       "      <td>Racing</td>\n",
       "      <td>Electronic Arts</td>\n",
       "      <td>0.000000</td>\n",
       "      <td>0.059998</td>\n",
       "      <td>0.000000</td>\n",
       "      <td>0.020004</td>\n",
       "    </tr>\n",
       "    <tr>\n",
       "      <th>6149</th>\n",
       "      <td>Need for Speed: Most Wanted</td>\n",
       "      <td>WiiU</td>\n",
       "      <td>2013</td>\n",
       "      <td>Racing</td>\n",
       "      <td>Electronic Arts</td>\n",
       "      <td>0.140015</td>\n",
       "      <td>0.119995</td>\n",
       "      <td>0.000000</td>\n",
       "      <td>0.020004</td>\n",
       "    </tr>\n",
       "  </tbody>\n",
       "</table>\n",
       "</div>"
      ],
      "text/plain": [
       "                              Name Platform  Year   Genre        Publisher  \\\n",
       "252    Need for Speed: Most Wanted      PS2  2005  Racing  Electronic Arts   \n",
       "1530   Need for Speed: Most Wanted     X360  2005  Racing  Electronic Arts   \n",
       "2005   Need for Speed: Most Wanted       XB  2005  Racing  Electronic Arts   \n",
       "3585   Need for Speed: Most Wanted       GC  2005  Racing  Electronic Arts   \n",
       "5900   Need for Speed: Most Wanted       PC  2005  Racing  Electronic Arts   \n",
       "6278   Need for Speed: Most Wanted       DS  2005  Racing  Electronic Arts   \n",
       "6492   Need for Speed: Most Wanted      GBA  2005  Racing  Electronic Arts   \n",
       "498    Need for Speed: Most Wanted      PS3  2012  Racing  Electronic Arts   \n",
       "1173   Need for Speed: Most Wanted     X360  2012  Racing  Electronic Arts   \n",
       "1742   Need for Speed: Most Wanted      PSV  2012  Racing  Electronic Arts   \n",
       "11676  Need for Speed: Most Wanted       PC  2012  Racing  Electronic Arts   \n",
       "6149   Need for Speed: Most Wanted     WiiU  2013  Racing  Electronic Arts   \n",
       "\n",
       "       NA_Sales  EU_Sales  JP_Sales  Other_Sales  \n",
       "252    2.029297  1.790039  0.080017     0.469971  \n",
       "1530   1.000000  0.170044  0.020004     0.099976  \n",
       "2005   0.529785  0.459961  0.000000     0.049988  \n",
       "3585   0.429932  0.109985  0.000000     0.020004  \n",
       "5900   0.020004  0.229980  0.000000     0.049988  \n",
       "6278   0.239990  0.010002  0.000000     0.020004  \n",
       "6492   0.189941  0.070007  0.000000     0.000000  \n",
       "498    0.709961  1.509766  0.059998     0.609863  \n",
       "1173   0.620117  0.799805  0.010002     0.150024  \n",
       "1742   0.379883  0.520020  0.010002     0.250000  \n",
       "11676  0.000000  0.059998  0.000000     0.020004  \n",
       "6149   0.140015  0.119995  0.000000     0.020004  "
      ]
     },
     "execution_count": 210,
     "metadata": {},
     "output_type": "execute_result"
    }
   ],
   "source": [
    "df_sales[df_sales['Name'] == df_sales['Name'].value_counts().idxmax()].sort_values(by='Year')"
   ]
  },
  {
   "cell_type": "markdown",
   "id": "211818a9",
   "metadata": {},
   "source": [
    "-------------------------------------\n",
    "Смотря на вывод, можно обратить внимание на большой промежуток в годах между выпусками. В нашем случае рассматриваются две разные игры, хоть и имеющие одно название. Данное предположение можно проверить с помощью Google. По результату мы можем сказать что данный вывод является неверным и нам не подходит. \n",
    "\n",
    "-------------------------------------"
   ]
  },
  {
   "cell_type": "markdown",
   "id": "fd03bc10",
   "metadata": {},
   "source": [
    "<img src='MW_2005.png' style='width:250px;height:350px'/>\n",
    "<img src='MW_2012.png' style='width:250px;height:350px'/>"
   ]
  },
  {
   "cell_type": "code",
   "execution_count": 5,
   "id": "2142c0f5",
   "metadata": {},
   "outputs": [
    {
     "data": {
      "text/plain": [
       "FIFA 14                     9\n",
       "Ratatouille                 9\n",
       "LEGO Marvel Super Heroes    9\n",
       "Cars                        8\n",
       "LEGO The Hobbit             8\n",
       "                           ..\n",
       "PGA Tour 96                 1\n",
       "Game & Wario                1\n",
       "Angry Birds                 1\n",
       "Shadow Hearts: Covenant     1\n",
       "Know How 2                  1\n",
       "Name: Name, Length: 11324, dtype: int64"
      ]
     },
     "execution_count": 5,
     "metadata": {},
     "output_type": "execute_result"
    }
   ],
   "source": [
    "df_sales['Name'].value_counts()[1:]"
   ]
  },
  {
   "cell_type": "markdown",
   "id": "69b6e59d",
   "metadata": {},
   "source": [
    "-------------------------------------\n",
    "Просмотрев следующее число платформ заметим что у нас идут сразу три игры, поэтому мы выведем их все.\n",
    "\n",
    "-------------------------------------"
   ]
  },
  {
   "cell_type": "code",
   "execution_count": 265,
   "id": "cd5fbf04",
   "metadata": {},
   "outputs": [
    {
     "data": {
      "text/html": [
       "<div>\n",
       "<style scoped>\n",
       "    .dataframe tbody tr th:only-of-type {\n",
       "        vertical-align: middle;\n",
       "    }\n",
       "\n",
       "    .dataframe tbody tr th {\n",
       "        vertical-align: top;\n",
       "    }\n",
       "\n",
       "    .dataframe thead th {\n",
       "        text-align: right;\n",
       "    }\n",
       "</style>\n",
       "<table border=\"1\" class=\"dataframe\">\n",
       "  <thead>\n",
       "    <tr style=\"text-align: right;\">\n",
       "      <th></th>\n",
       "      <th>Name</th>\n",
       "      <th>Platform</th>\n",
       "    </tr>\n",
       "  </thead>\n",
       "  <tbody>\n",
       "    <tr>\n",
       "      <th>112</th>\n",
       "      <td>FIFA 14</td>\n",
       "      <td>PS3</td>\n",
       "    </tr>\n",
       "    <tr>\n",
       "      <th>256</th>\n",
       "      <td>FIFA 14</td>\n",
       "      <td>X360</td>\n",
       "    </tr>\n",
       "    <tr>\n",
       "      <th>493</th>\n",
       "      <td>FIFA 14</td>\n",
       "      <td>PS4</td>\n",
       "    </tr>\n",
       "    <tr>\n",
       "      <th>1698</th>\n",
       "      <td>FIFA 14</td>\n",
       "      <td>XOne</td>\n",
       "    </tr>\n",
       "    <tr>\n",
       "      <th>3988</th>\n",
       "      <td>FIFA 14</td>\n",
       "      <td>PSV</td>\n",
       "    </tr>\n",
       "    <tr>\n",
       "      <th>4503</th>\n",
       "      <td>FIFA 14</td>\n",
       "      <td>PC</td>\n",
       "    </tr>\n",
       "    <tr>\n",
       "      <th>4538</th>\n",
       "      <td>FIFA 14</td>\n",
       "      <td>Wii</td>\n",
       "    </tr>\n",
       "    <tr>\n",
       "      <th>6661</th>\n",
       "      <td>FIFA 14</td>\n",
       "      <td>3DS</td>\n",
       "    </tr>\n",
       "    <tr>\n",
       "      <th>7034</th>\n",
       "      <td>FIFA 14</td>\n",
       "      <td>PSP</td>\n",
       "    </tr>\n",
       "  </tbody>\n",
       "</table>\n",
       "</div>"
      ],
      "text/plain": [
       "         Name Platform\n",
       "112   FIFA 14      PS3\n",
       "256   FIFA 14     X360\n",
       "493   FIFA 14      PS4\n",
       "1698  FIFA 14     XOne\n",
       "3988  FIFA 14      PSV\n",
       "4503  FIFA 14       PC\n",
       "4538  FIFA 14      Wii\n",
       "6661  FIFA 14      3DS\n",
       "7034  FIFA 14      PSP"
      ]
     },
     "execution_count": 265,
     "metadata": {},
     "output_type": "execute_result"
    }
   ],
   "source": [
    "df_sales[df_sales['Name'] == df_sales['Name'].value_counts()[1:].idxmax()][['Name', 'Platform']]"
   ]
  },
  {
   "cell_type": "code",
   "execution_count": 195,
   "id": "e2768035",
   "metadata": {},
   "outputs": [
    {
     "data": {
      "text/html": [
       "<div>\n",
       "<style scoped>\n",
       "    .dataframe tbody tr th:only-of-type {\n",
       "        vertical-align: middle;\n",
       "    }\n",
       "\n",
       "    .dataframe tbody tr th {\n",
       "        vertical-align: top;\n",
       "    }\n",
       "\n",
       "    .dataframe thead th {\n",
       "        text-align: right;\n",
       "    }\n",
       "</style>\n",
       "<table border=\"1\" class=\"dataframe\">\n",
       "  <thead>\n",
       "    <tr style=\"text-align: right;\">\n",
       "      <th></th>\n",
       "      <th>Name</th>\n",
       "      <th>Platform</th>\n",
       "    </tr>\n",
       "  </thead>\n",
       "  <tbody>\n",
       "    <tr>\n",
       "      <th>1578</th>\n",
       "      <td>Ratatouille</td>\n",
       "      <td>DS</td>\n",
       "    </tr>\n",
       "    <tr>\n",
       "      <th>2445</th>\n",
       "      <td>Ratatouille</td>\n",
       "      <td>PS2</td>\n",
       "    </tr>\n",
       "    <tr>\n",
       "      <th>3029</th>\n",
       "      <td>Ratatouille</td>\n",
       "      <td>PSP</td>\n",
       "    </tr>\n",
       "    <tr>\n",
       "      <th>3851</th>\n",
       "      <td>Ratatouille</td>\n",
       "      <td>PS3</td>\n",
       "    </tr>\n",
       "    <tr>\n",
       "      <th>3857</th>\n",
       "      <td>Ratatouille</td>\n",
       "      <td>Wii</td>\n",
       "    </tr>\n",
       "    <tr>\n",
       "      <th>6383</th>\n",
       "      <td>Ratatouille</td>\n",
       "      <td>X360</td>\n",
       "    </tr>\n",
       "    <tr>\n",
       "      <th>7703</th>\n",
       "      <td>Ratatouille</td>\n",
       "      <td>GBA</td>\n",
       "    </tr>\n",
       "    <tr>\n",
       "      <th>9025</th>\n",
       "      <td>Ratatouille</td>\n",
       "      <td>GC</td>\n",
       "    </tr>\n",
       "    <tr>\n",
       "      <th>14395</th>\n",
       "      <td>Ratatouille</td>\n",
       "      <td>PC</td>\n",
       "    </tr>\n",
       "  </tbody>\n",
       "</table>\n",
       "</div>"
      ],
      "text/plain": [
       "              Name Platform\n",
       "1578   Ratatouille       DS\n",
       "2445   Ratatouille      PS2\n",
       "3029   Ratatouille      PSP\n",
       "3851   Ratatouille      PS3\n",
       "3857   Ratatouille      Wii\n",
       "6383   Ratatouille     X360\n",
       "7703   Ratatouille      GBA\n",
       "9025   Ratatouille       GC\n",
       "14395  Ratatouille       PC"
      ]
     },
     "execution_count": 195,
     "metadata": {},
     "output_type": "execute_result"
    }
   ],
   "source": [
    "df_sales[df_sales['Name'] == df_sales['Name'].value_counts()[2:].idxmax()][['Name', 'Platform']]"
   ]
  },
  {
   "cell_type": "code",
   "execution_count": 197,
   "id": "11a2937d",
   "metadata": {},
   "outputs": [
    {
     "data": {
      "text/html": [
       "<div>\n",
       "<style scoped>\n",
       "    .dataframe tbody tr th:only-of-type {\n",
       "        vertical-align: middle;\n",
       "    }\n",
       "\n",
       "    .dataframe tbody tr th {\n",
       "        vertical-align: top;\n",
       "    }\n",
       "\n",
       "    .dataframe thead th {\n",
       "        text-align: right;\n",
       "    }\n",
       "</style>\n",
       "<table border=\"1\" class=\"dataframe\">\n",
       "  <thead>\n",
       "    <tr style=\"text-align: right;\">\n",
       "      <th></th>\n",
       "      <th>Name</th>\n",
       "      <th>Platform</th>\n",
       "    </tr>\n",
       "  </thead>\n",
       "  <tbody>\n",
       "    <tr>\n",
       "      <th>690</th>\n",
       "      <td>LEGO Marvel Super Heroes</td>\n",
       "      <td>X360</td>\n",
       "    </tr>\n",
       "    <tr>\n",
       "      <th>846</th>\n",
       "      <td>LEGO Marvel Super Heroes</td>\n",
       "      <td>PS3</td>\n",
       "    </tr>\n",
       "    <tr>\n",
       "      <th>1193</th>\n",
       "      <td>LEGO Marvel Super Heroes</td>\n",
       "      <td>PS4</td>\n",
       "    </tr>\n",
       "    <tr>\n",
       "      <th>2007</th>\n",
       "      <td>LEGO Marvel Super Heroes</td>\n",
       "      <td>XOne</td>\n",
       "    </tr>\n",
       "    <tr>\n",
       "      <th>2344</th>\n",
       "      <td>LEGO Marvel Super Heroes</td>\n",
       "      <td>3DS</td>\n",
       "    </tr>\n",
       "    <tr>\n",
       "      <th>2774</th>\n",
       "      <td>LEGO Marvel Super Heroes</td>\n",
       "      <td>WiiU</td>\n",
       "    </tr>\n",
       "    <tr>\n",
       "      <th>3080</th>\n",
       "      <td>LEGO Marvel Super Heroes</td>\n",
       "      <td>PSV</td>\n",
       "    </tr>\n",
       "    <tr>\n",
       "      <th>4056</th>\n",
       "      <td>LEGO Marvel Super Heroes</td>\n",
       "      <td>DS</td>\n",
       "    </tr>\n",
       "    <tr>\n",
       "      <th>8095</th>\n",
       "      <td>LEGO Marvel Super Heroes</td>\n",
       "      <td>PC</td>\n",
       "    </tr>\n",
       "  </tbody>\n",
       "</table>\n",
       "</div>"
      ],
      "text/plain": [
       "                          Name Platform\n",
       "690   LEGO Marvel Super Heroes     X360\n",
       "846   LEGO Marvel Super Heroes      PS3\n",
       "1193  LEGO Marvel Super Heroes      PS4\n",
       "2007  LEGO Marvel Super Heroes     XOne\n",
       "2344  LEGO Marvel Super Heroes      3DS\n",
       "2774  LEGO Marvel Super Heroes     WiiU\n",
       "3080  LEGO Marvel Super Heroes      PSV\n",
       "4056  LEGO Marvel Super Heroes       DS\n",
       "8095  LEGO Marvel Super Heroes       PC"
      ]
     },
     "execution_count": 197,
     "metadata": {},
     "output_type": "execute_result"
    }
   ],
   "source": [
    "df_sales[df_sales['Name'] == df_sales['Name'].value_counts()[3:].idxmax()][['Name', 'Platform']]"
   ]
  },
  {
   "cell_type": "markdown",
   "id": "226addc0",
   "metadata": {},
   "source": [
    "-------------------------------------\n",
    "\n",
    "Лидирующие позиции в самых многоплатформенных играх занимают - 'FIFA 14', 'Ratatouille', 'LEGO Marvel Super Heroes'. Так же можно заметить, что названия некоторых платформ есть в одних играх, но нет в других. Поэтому можно сделать вывод, что игры содержат не одно и то же множество платформ.\n",
    "\n",
    "-------------------------------------"
   ]
  },
  {
   "cell_type": "markdown",
   "id": "a0839209",
   "metadata": {},
   "source": [
    "## 2. Рассчитать топ-3 и антитоп-3 издателя по количеству дохода используя данные Северной Америки и Японии."
   ]
  },
  {
   "cell_type": "code",
   "execution_count": 249,
   "id": "e7acad56",
   "metadata": {},
   "outputs": [
    {
     "data": {
      "text/plain": [
       "Publisher\n",
       "Nintendo           816.0\n",
       "Electronic Arts    584.0\n",
       "Activision         426.0\n",
       "Name: NA_Sales, dtype: float16"
      ]
     },
     "execution_count": 249,
     "metadata": {},
     "output_type": "execute_result"
    }
   ],
   "source": [
    "df_sales.groupby(by='Publisher').sum().nlargest(3, 'NA_Sales')['NA_Sales']"
   ]
  },
  {
   "cell_type": "code",
   "execution_count": 260,
   "id": "fdd65efd",
   "metadata": {},
   "outputs": [
    {
     "data": {
      "text/plain": [
       "Publisher\n",
       "2D Boy      0.0\n",
       "49Games     0.0\n",
       "7G//AMES    0.0\n",
       "Name: NA_Sales, dtype: float16"
      ]
     },
     "execution_count": 260,
     "metadata": {},
     "output_type": "execute_result"
    }
   ],
   "source": [
    "df_sales.groupby(by='Publisher').sum().nsmallest(3, 'NA_Sales')['NA_Sales']"
   ]
  },
  {
   "cell_type": "markdown",
   "id": "7ce8d650",
   "metadata": {},
   "source": [
    "-------------------------------------\n",
    "\n",
    "Результаты вывода по Северной Америке показывают, что самые высокие позиции доходах у:\n",
    "- Nintendo - $816 миллиона\n",
    "\n",
    "- Electronic Arts - $584 миллиона\n",
    "\n",
    "- Activision - $426 миллиона \n",
    "\n",
    "А самые низкие:\n",
    "- 2D Boy - $0.0 миллиона \n",
    "\n",
    "- 49Games - $0.0 миллиона \n",
    "\n",
    "- 7G//AMES - $0.0 миллиона \n",
    "\n",
    "В результатах мы видим, что у антитопа прослеживаются нулевые доходы. Возможно это связанно с тем, что доходы компании были настолько малы, что данные в итоге не могут поддержаться, либо же эти компании не участвовали на американском рынке.\n",
    "\n",
    "-------------------------------------"
   ]
  },
  {
   "cell_type": "code",
   "execution_count": 255,
   "id": "273c4160",
   "metadata": {},
   "outputs": [
    {
     "data": {
      "text/plain": [
       "Publisher\n",
       "Nintendo                        455.0000\n",
       "Namco Bandai Games              126.8125\n",
       "Konami Digital Entertainment     90.9375\n",
       "Name: JP_Sales, dtype: float16"
      ]
     },
     "execution_count": 255,
     "metadata": {},
     "output_type": "execute_result"
    }
   ],
   "source": [
    "df_sales.groupby(by='Publisher').sum().nlargest(3, 'JP_Sales')['JP_Sales']"
   ]
  },
  {
   "cell_type": "code",
   "execution_count": 261,
   "id": "7f0d7aff",
   "metadata": {},
   "outputs": [
    {
     "data": {
      "text/plain": [
       "Publisher\n",
       "10TACLE Studios                 0.0\n",
       "1C Company                      0.0\n",
       "20th Century Fox Video Games    0.0\n",
       "Name: JP_Sales, dtype: float16"
      ]
     },
     "execution_count": 261,
     "metadata": {},
     "output_type": "execute_result"
    }
   ],
   "source": [
    "df_sales.groupby(by='Publisher').sum().nsmallest(3, 'JP_Sales')['JP_Sales']"
   ]
  },
  {
   "cell_type": "markdown",
   "id": "ed149f2b",
   "metadata": {},
   "source": [
    "-------------------------------------\n",
    "Результаты же вывода по Японии показывают что самые высокие позиции в доходах у:\n",
    "- Nintendo - $455 миллиона\n",
    "\n",
    "- Namco Bandai Games - $126.8125 миллиона\n",
    "\n",
    "- Konami Digital Entertainment - $90.9375 миллиона\n",
    "\n",
    "А самые низкие:\n",
    "- 10TACLE Studios - $0.0 миллиона\n",
    "\n",
    "- 1C Company - $0.0 миллиона\n",
    "\n",
    "- 20th Century Fox Video Games - $0.0 миллиона\n",
    "\n",
    "В случае же с самыми малыми доходами мы можем наблюдать ту же картину что и на американском рынке. Либо доходы компании малы, либо они не участвовали в японском рынке\n",
    "\n",
    "-------------------------------------"
   ]
  },
  {
   "cell_type": "markdown",
   "id": "159b0024",
   "metadata": {},
   "source": [
    "## 3. Рассчитать на какую платформу выпустили больше всего игр."
   ]
  },
  {
   "cell_type": "code",
   "execution_count": 291,
   "id": "1d87dbe9",
   "metadata": {},
   "outputs": [
    {
     "data": {
      "text/plain": [
       "Platform\n",
       "DS    2131\n",
       "dtype: int64"
      ]
     },
     "execution_count": 291,
     "metadata": {},
     "output_type": "execute_result"
    }
   ],
   "source": [
    "df_sales.value_counts('Platform').nlargest(1)"
   ]
  },
  {
   "cell_type": "code",
   "execution_count": 292,
   "id": "98f5a6c4",
   "metadata": {},
   "outputs": [
    {
     "data": {
      "text/plain": [
       "Platform\n",
       "DS     2131\n",
       "PS2    2127\n",
       "dtype: int64"
      ]
     },
     "execution_count": 292,
     "metadata": {},
     "output_type": "execute_result"
    }
   ],
   "source": [
    "df_sales.value_counts('Platform').nlargest(2)"
   ]
  },
  {
   "cell_type": "markdown",
   "id": "0fbafbc5",
   "metadata": {},
   "source": [
    "-------------------------------------\n",
    "В результате мы можем заметить, что большинство игр вышло на Nintendo DS. Что примечательно, другая платформа \n",
    "так же японского производителя - Sony PS2, отстала всего на 4 позиции в нашем DataFrame от лидирующего места. \n",
    "\n",
    "\n",
    "-------------------------------------"
   ]
  },
  {
   "cell_type": "markdown",
   "id": "b6be813a",
   "metadata": {},
   "source": [
    "## 4. Вычислить сколько денег принесла каждая игра в общемировом масштабе.\n"
   ]
  },
  {
   "cell_type": "code",
   "execution_count": 382,
   "id": "874612ef",
   "metadata": {},
   "outputs": [],
   "source": [
    "df_sales['World_Sales'] = df_sales['NA_Sales'] + df_sales['EU_Sales'] + \\\n",
    "                          df_sales['JP_Sales'] + df_sales['Other_Sales']"
   ]
  },
  {
   "cell_type": "code",
   "execution_count": 384,
   "id": "1cf12b1d",
   "metadata": {
    "scrolled": true
   },
   "outputs": [
    {
     "data": {
      "text/html": [
       "<div>\n",
       "<style scoped>\n",
       "    .dataframe tbody tr th:only-of-type {\n",
       "        vertical-align: middle;\n",
       "    }\n",
       "\n",
       "    .dataframe tbody tr th {\n",
       "        vertical-align: top;\n",
       "    }\n",
       "\n",
       "    .dataframe thead th {\n",
       "        text-align: right;\n",
       "    }\n",
       "</style>\n",
       "<table border=\"1\" class=\"dataframe\">\n",
       "  <thead>\n",
       "    <tr style=\"text-align: right;\">\n",
       "      <th></th>\n",
       "      <th>Name</th>\n",
       "      <th>Platform</th>\n",
       "      <th>Year</th>\n",
       "      <th>Genre</th>\n",
       "      <th>Publisher</th>\n",
       "      <th>NA_Sales</th>\n",
       "      <th>EU_Sales</th>\n",
       "      <th>JP_Sales</th>\n",
       "      <th>Other_Sales</th>\n",
       "      <th>World_Sales</th>\n",
       "    </tr>\n",
       "  </thead>\n",
       "  <tbody>\n",
       "    <tr>\n",
       "      <th>0</th>\n",
       "      <td>Wii Sports</td>\n",
       "      <td>Wii</td>\n",
       "      <td>2006</td>\n",
       "      <td>Sports</td>\n",
       "      <td>Nintendo</td>\n",
       "      <td>41.500000</td>\n",
       "      <td>29.015625</td>\n",
       "      <td>3.769531</td>\n",
       "      <td>8.460938</td>\n",
       "      <td>82.68750</td>\n",
       "    </tr>\n",
       "    <tr>\n",
       "      <th>1</th>\n",
       "      <td>Super Mario Bros.</td>\n",
       "      <td>NES</td>\n",
       "      <td>1985</td>\n",
       "      <td>Platform</td>\n",
       "      <td>Nintendo</td>\n",
       "      <td>29.078125</td>\n",
       "      <td>3.580078</td>\n",
       "      <td>6.808594</td>\n",
       "      <td>0.770020</td>\n",
       "      <td>40.25000</td>\n",
       "    </tr>\n",
       "    <tr>\n",
       "      <th>2</th>\n",
       "      <td>Mario Kart Wii</td>\n",
       "      <td>Wii</td>\n",
       "      <td>2008</td>\n",
       "      <td>Racing</td>\n",
       "      <td>Nintendo</td>\n",
       "      <td>15.851562</td>\n",
       "      <td>12.882812</td>\n",
       "      <td>3.789062</td>\n",
       "      <td>3.310547</td>\n",
       "      <td>35.84375</td>\n",
       "    </tr>\n",
       "    <tr>\n",
       "      <th>3</th>\n",
       "      <td>Wii Sports Resort</td>\n",
       "      <td>Wii</td>\n",
       "      <td>2009</td>\n",
       "      <td>Sports</td>\n",
       "      <td>Nintendo</td>\n",
       "      <td>15.750000</td>\n",
       "      <td>11.007812</td>\n",
       "      <td>3.279297</td>\n",
       "      <td>2.960938</td>\n",
       "      <td>33.00000</td>\n",
       "    </tr>\n",
       "    <tr>\n",
       "      <th>4</th>\n",
       "      <td>Pokemon Red/Pokemon Blue</td>\n",
       "      <td>GB</td>\n",
       "      <td>1996</td>\n",
       "      <td>Role-Playing</td>\n",
       "      <td>Nintendo</td>\n",
       "      <td>11.273438</td>\n",
       "      <td>8.890625</td>\n",
       "      <td>10.218750</td>\n",
       "      <td>1.000000</td>\n",
       "      <td>31.37500</td>\n",
       "    </tr>\n",
       "  </tbody>\n",
       "</table>\n",
       "</div>"
      ],
      "text/plain": [
       "                       Name Platform  Year         Genre Publisher   NA_Sales  \\\n",
       "0                Wii Sports      Wii  2006        Sports  Nintendo  41.500000   \n",
       "1         Super Mario Bros.      NES  1985      Platform  Nintendo  29.078125   \n",
       "2            Mario Kart Wii      Wii  2008        Racing  Nintendo  15.851562   \n",
       "3         Wii Sports Resort      Wii  2009        Sports  Nintendo  15.750000   \n",
       "4  Pokemon Red/Pokemon Blue       GB  1996  Role-Playing  Nintendo  11.273438   \n",
       "\n",
       "    EU_Sales   JP_Sales  Other_Sales  World_Sales  \n",
       "0  29.015625   3.769531     8.460938     82.68750  \n",
       "1   3.580078   6.808594     0.770020     40.25000  \n",
       "2  12.882812   3.789062     3.310547     35.84375  \n",
       "3  11.007812   3.279297     2.960938     33.00000  \n",
       "4   8.890625  10.218750     1.000000     31.37500  "
      ]
     },
     "execution_count": 384,
     "metadata": {},
     "output_type": "execute_result"
    }
   ],
   "source": [
    "df_sales.head()"
   ]
  },
  {
   "cell_type": "markdown",
   "id": "7f41dda6",
   "metadata": {},
   "source": [
    "-------------------------------------\n",
    "\n",
    "С помощью сложения каждого столбца по каждой строке мы добились результата характеризующий мировой доход по каждой игре в нашем DataFrame. Теперь, когда нам известен мировой доход, мы сможем вычислять во сколько раз конкретная игра заработала больше/меньше другой или рассчитать процентный доход игры отсносительно издателя который выпустил ее.\n",
    "\n",
    "-------------------------------------"
   ]
  },
  {
   "cell_type": "markdown",
   "id": "8822fe0f",
   "metadata": {},
   "source": [
    "## 5. Изобразить как росло количество издаваемых игр каждый год."
   ]
  },
  {
   "cell_type": "code",
   "execution_count": 373,
   "id": "f8f87011",
   "metadata": {},
   "outputs": [
    {
     "data": {
      "image/png": "[encoded data removed]",
      "text/plain": [
       "<Figure size 3600x1000 with 1 Axes>"
      ]
     },
     "metadata": {},
     "output_type": "display_data"
    }
   ],
   "source": [
    "plt.figure(figsize=(18, 5), dpi=200)\n",
    "plt.xticks(rotation=45)\n",
    "plt.title(\"Количество издаваемых игр в год\")\n",
    "\n",
    "sns.countplot(data=df_sales, x='Year')\n",
    "\n",
    "plt.xlabel(\"Годы\")\n",
    "plt.ylabel(\"Количество\")\n",
    "\n",
    "plt.show()"
   ]
  },
  {
   "cell_type": "code",
   "execution_count": 350,
   "id": "390892d6",
   "metadata": {},
   "outputs": [
    {
     "data": {
      "text/plain": [
       "Year\n",
       "2009    1431\n",
       "2008    1428\n",
       "2010    1257\n",
       "2007    1201\n",
       "2011    1136\n",
       "Name: Name, dtype: int64"
      ]
     },
     "execution_count": 350,
     "metadata": {},
     "output_type": "execute_result"
    }
   ],
   "source": [
    "df_sales.groupby(by='Year').count()['Name'].sort_values(ascending=False).head()"
   ]
  },
  {
   "cell_type": "code",
   "execution_count": 394,
   "id": "1517d2df",
   "metadata": {},
   "outputs": [
    {
     "data": {
      "text/plain": [
       "Year\n",
       "2020     1\n",
       "2017     3\n",
       "1980     9\n",
       "1984    14\n",
       "1985    14\n",
       "Name: Name, dtype: int64"
      ]
     },
     "execution_count": 394,
     "metadata": {},
     "output_type": "execute_result"
    }
   ],
   "source": [
    "df_sales.groupby(by='Year').count()['Name'].sort_values(ascending=True).head(5)"
   ]
  },
  {
   "cell_type": "markdown",
   "id": "6a2deab3",
   "metadata": {},
   "source": [
    "------------------------------------\n",
    "Наиболее результативные года - 2009, 2008\n",
    "\n",
    "Наименее результативные года - 2020, 2017\n",
    "\n",
    "Так же на графике мы можем наблюдать как с 1991 года пошел активный рост количества игр, пик которого был в 2009 году и составлял 1431 игры с последующим уменьшением количества до всего одной к 2020 году.\n",
    "\n",
    "\n",
    "-------------------------------------"
   ]
  },
  {
   "cell_type": "markdown",
   "id": "251a2aa6",
   "metadata": {},
   "source": [
    "## Вывод\n",
    "\n",
    "- Из csv-файла извлекли необходмые данные - типы данных не требуют преобразования, пропуски были найдены в двух колонка и ввиду целей был произведен дроп nan значений\n",
    "\n",
    "\n",
    "- Наиболее многоплатформенные игры - 'FIFA 14', 'Ratatouille', 'LEGO Marvel Super Heroes'. Эти игры были выпущенны на 9 различных платформах\n",
    "\n",
    "\n",
    "- Лидирующие позиции по выручке:\n",
    "\n",
    "     - Америке - Nintendo, EA, Activision\n",
    "\n",
    "     - Японии - Nintendo, Namco Bandai Games , Konami Digital Entertainment\n",
    "     \n",
    "\n",
    "- Платформа на которую выпускали чаще всего игры - Nintendo DS. При анализе было обнаруженно, что платформа DS ушла на 4 позиции больше, чем другая платформа от другого японского гиганта Sony - PS2\n",
    "\n",
    "\n",
    "- Так же было выяснено сколько каждая игра принесла в общемировом масштабе для того, чтобы производить по необходимости более глубокий анализ причастности каждой игры к определенному показателю\n",
    "\n",
    "\n",
    "- Был сделан показательный график количества выпускаемых игр в каждый год:\n",
    "    -  2009 и 2008 - самые результативные года с точки зрения количества выпускаемых игр\n",
    "    -  2020 и 2017 - оказались самыми наименнее результативными годами."
   ]
  }
 ],
 "metadata": {
  "kernelspec": {
   "display_name": "Python 3 (ipykernel)",
   "language": "python",
   "name": "python3"
  },
  "language_info": {
   "codemirror_mode": {
    "name": "ipython",
    "version": 3
   },
   "file_extension": ".py",
   "mimetype": "text/x-python",
   "name": "python",
   "nbconvert_exporter": "python",
   "pygments_lexer": "ipython3",
   "version": "3.9.13"
  }
 },
 "nbformat": 4,
 "nbformat_minor": 5
}
