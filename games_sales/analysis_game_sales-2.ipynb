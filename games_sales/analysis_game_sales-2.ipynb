{
 "cells": [
  {
   "cell_type": "markdown",
   "id": "8c020a1b",
   "metadata": {},
   "source": [
    "## Исследование продаж по видео играм"
   ]
  },
  {
   "cell_type": "markdown",
   "id": "77b18ac3",
   "metadata": {},
   "source": [
    "<img src='games.jpg' style='width:500px;height:350px'/>"
   ]
  },
  {
   "cell_type": "markdown",
   "id": "a82aed55",
   "metadata": {},
   "source": [
    " В комании \"Тралала\", которая является ведущей в области анализа игр, пришел некоторый заказ на исследование. В котором необходимо найти/рассчитать следующие показатели:\n",
    "\n",
    " 1. Выполнить поиск игры/игр, которую/ые выпускали на максимальном числе данных нам платформ;\n",
    " 2. Рассчитать топ-3 и антитоп-3 издателя по количеству дохода используя данные Северной Америки и Японии;\n",
    " 3. Рассчитать на какую платформу выпустили больше всего игр;\n",
    " 4. Вычислить сколько денег принесла каждая игра в общемировом масштабе;\n",
    " 5. Изобразить как росло количество издаваемых игр каждый год."
   ]
  },
  {
   "cell_type": "markdown",
   "id": "50d574cd",
   "metadata": {},
   "source": [
    "## Загрузка данных и подготовка к анализу"
   ]
  },
  {
   "cell_type": "code",
   "execution_count": null,
   "id": "b55968d3",
   "metadata": {},
   "outputs": [],
   "source": [
    "import pandas as pd\n",
    "import numpy as np\n",
    "import matplotlib.pyplot as plt\n",
    "import seaborn as sns\n",
    "import warnings\n",
    "\n",
    "warnings.filterwarnings(\"ignore\")\n",
    "sns.set_style('darkgrid')"
   ]
  },
  {
   "cell_type": "code",
   "execution_count": null,
   "id": "2aecc4ee",
   "metadata": {},
   "outputs": [],
   "source": [
    "try:\n",
    "    df_sales = pd.read_csv('game_sales.csv')\n",
    "except:\n",
    "    print('Ошибка, проверьте правильность заполненных данных')\n",
    "else:\n",
    "    print('Данные успешно загружены')\n"
   ]
  },
  {
   "cell_type": "code",
   "execution_count": null,
   "id": "f9d71788",
   "metadata": {},
   "outputs": [],
   "source": [
    "def get_info(data):\n",
    "    display(data.head().style.set_caption('Общая информация по датасету'))\n",
    "    display(data.describe().T)\n",
    "    print('----')\n",
    "    print('Информация о пропусках и типах данных')\n",
    "    print('----')\n",
    "    print()\n",
    "    display(data.info())\n",
    "    print('----')\n",
    "    print()"
   ]
  },
  {
   "cell_type": "code",
   "execution_count": null,
   "id": "9449ba59",
   "metadata": {},
   "outputs": [],
   "source": [
    "get_info(df_sales)"
   ]
  },
  {
   "cell_type": "markdown",
   "id": "e34b1af4",
   "metadata": {},
   "source": [
    "-------------------------------------\n",
    "\n",
    "df_sales — результат запроса. В нём содержится следующая информация:\n",
    "\n",
    "- Name - Название игры\n",
    "- Platform - Платформа выпуска игры (т.е. PC, PS4 и т.д.)\n",
    "- Year - Год выпуска игры\n",
    "- Genre - Жанр игры\n",
    "- Publisher - Издатель игры\n",
    "- NA_Sales - Продажи в Северной Америке (в миллионах)\n",
    "- EU_Sales - Продажи в Европе (в миллионах)\n",
    "- JP_Sales - Продажи в Японии (в миллионах)\n",
    "- Other_Sales - Продажи в остальном мире (в миллионах)\n",
    "\n",
    "Пропуски наблюдаются в колонках 'Year' - 271 и 'Publisher' - 58, Пропуски изучим и примем решение, что с ними делать. Особой необходимости преобразовывать типы нет, для даты в нашем случае будет подходить и тип float, но для удобства можно преобразовать в int.\n",
    "\n",
    "Для количества продаж устраивает float64 - вещественные числа. Можно немного уменьшить занимаемую память, понизив тип до float16.\n",
    "\n",
    "-------------------------------------"
   ]
  },
  {
   "cell_type": "markdown",
   "id": "a705f8ec",
   "metadata": {},
   "source": [
    "### Понижение используемой памяти."
   ]
  },
  {
   "cell_type": "code",
   "execution_count": null,
   "id": "258e26a1",
   "metadata": {},
   "outputs": [],
   "source": [
    "df_sales = df_sales.astype({'NA_Sales': 'float16', \n",
    "                             'EU_Sales': 'float16', \n",
    "                             'JP_Sales': 'float16', \n",
    "                             'Other_Sales': 'float16'})"
   ]
  },
  {
   "cell_type": "markdown",
   "id": "c6bad026",
   "metadata": {},
   "source": [
    "### Наличие дубликатов в сете данных."
   ]
  },
  {
   "cell_type": "code",
   "execution_count": null,
   "id": "2edade64",
   "metadata": {},
   "outputs": [],
   "source": [
    "df_sales.duplicated().sum()"
   ]
  },
  {
   "cell_type": "markdown",
   "id": "db81ed52",
   "metadata": {},
   "source": [
    "Найден один дубликат, посмотрим на него."
   ]
  },
  {
   "cell_type": "code",
   "execution_count": null,
   "id": "04ae0a95",
   "metadata": {},
   "outputs": [],
   "source": [
    "df_sales[df_sales.duplicated(keep=False) == True]"
   ]
  },
  {
   "cell_type": "markdown",
   "id": "4d411b91",
   "metadata": {},
   "source": [
    "Необходимости оставлять дубликат никакой нет, поэтому произведем дроп."
   ]
  },
  {
   "cell_type": "code",
   "execution_count": null,
   "id": "b1517e7e",
   "metadata": {},
   "outputs": [],
   "source": [
    "df_sales = df_sales.drop_duplicates()"
   ]
  },
  {
   "cell_type": "code",
   "execution_count": null,
   "id": "0837aa66",
   "metadata": {},
   "outputs": [],
   "source": [
    "df_sales.duplicated().sum()"
   ]
  },
  {
   "cell_type": "markdown",
   "id": "98d1e48b",
   "metadata": {},
   "source": [
    "Теперь мы можем перейти к пропускам и их обработке"
   ]
  },
  {
   "cell_type": "markdown",
   "id": "47d05c04",
   "metadata": {},
   "source": [
    "### Столбец Year."
   ]
  },
  {
   "cell_type": "markdown",
   "id": "36e86bb3",
   "metadata": {},
   "source": [
    "После удаления дубликата на единицу уменьшились пропуски в столбце 'Year'"
   ]
  },
  {
   "cell_type": "code",
   "execution_count": null,
   "id": "dfd6d816",
   "metadata": {},
   "outputs": [],
   "source": [
    "print('Количество пропусков в столбце Year', len(df_sales[df_sales['Year'].isna()]))"
   ]
  },
  {
   "cell_type": "code",
   "execution_count": null,
   "id": "711b61ac",
   "metadata": {},
   "outputs": [],
   "source": [
    "df_sales['Year'].unique()"
   ]
  },
  {
   "cell_type": "markdown",
   "id": "60c6b763",
   "metadata": {},
   "source": [
    "270 пропусков по столбцу год. Проводить иследование и восстанавливать 270 строку слишком громоздко. Заменим на 0, при визуализации исключим из данных строки с этим значением."
   ]
  },
  {
   "cell_type": "code",
   "execution_count": null,
   "id": "f43f4764",
   "metadata": {},
   "outputs": [],
   "source": [
    "df_sales['Year'] = df_sales['Year'].fillna(0)\n",
    "print(f'Количество пропусков в столбце Year {len(df_sales[df_sales[\"Year\"].isna()])}')"
   ]
  },
  {
   "cell_type": "markdown",
   "id": "2e0aa40e",
   "metadata": {},
   "source": [
    "### Столбец Publisher"
   ]
  },
  {
   "cell_type": "code",
   "execution_count": null,
   "id": "130eae51",
   "metadata": {},
   "outputs": [],
   "source": [
    "print('Количество пропусков в столбце Publisher', len(df_sales[df_sales['Publisher'].isna()]))"
   ]
  },
  {
   "cell_type": "code",
   "execution_count": null,
   "id": "f13c646e",
   "metadata": {},
   "outputs": [],
   "source": [
    "df_sales[df_sales['Publisher'].isna()].head()"
   ]
  },
  {
   "cell_type": "markdown",
   "id": "aede812d",
   "metadata": {},
   "source": [
    "Провели исследование. Обнаружить и привязать данные параметры к Издателю игры не удастся. Заменим название на unknown. Удалять строки не будем. В случае, если будут ошибки, исключим из анализа с помощью запроса."
   ]
  },
  {
   "cell_type": "code",
   "execution_count": null,
   "id": "de021ad1",
   "metadata": {},
   "outputs": [],
   "source": [
    "df_sales['Publisher'] = df_sales['Publisher'].fillna('unknown')\n",
    "print('Количество пропусков в столбце Publisher', len(df_sales[df_sales['Publisher'].isna()]))"
   ]
  },
  {
   "cell_type": "markdown",
   "id": "ed31ab43",
   "metadata": {},
   "source": [
    "### Преобразование данных в иные типы"
   ]
  },
  {
   "cell_type": "code",
   "execution_count": null,
   "id": "ffc37ccc",
   "metadata": {},
   "outputs": [],
   "source": [
    "df_sales = df_sales.astype({'Year': 'int16'}) "
   ]
  },
  {
   "cell_type": "code",
   "execution_count": null,
   "id": "2872e531",
   "metadata": {},
   "outputs": [],
   "source": [
    "df_sales.info()"
   ]
  },
  {
   "cell_type": "markdown",
   "id": "c61e1cf0",
   "metadata": {},
   "source": [
    "-------------------------------------\n",
    "Незначительно сэкономили занимаемую память и избавились от nan значений.\n",
    "\n",
    "-------------------------------------"
   ]
  },
  {
   "cell_type": "markdown",
   "id": "b7bfb4af",
   "metadata": {},
   "source": [
    "## 1. Выполнить поиск игры/игр, которую/ые выпускали на максимальном числе данных нам платформ."
   ]
  },
  {
   "cell_type": "code",
   "execution_count": null,
   "id": "4ad2a66a",
   "metadata": {},
   "outputs": [],
   "source": [
    "df_sales[df_sales['Name'] == df_sales['Name'].value_counts().idxmax()].sort_values(by='Year')"
   ]
  },
  {
   "cell_type": "markdown",
   "id": "211818a9",
   "metadata": {},
   "source": [
    "-------------------------------------\n",
    "Смотря на вывод, можно обратить внимание на большой промежуток в годах между выпусками. В нашем случае рассматриваются две разные игры, хоть и имеющие одно название. Данное предположение можно проверить с помощью Google. По результату мы можем сказать что данный вывод является неверным и нам не подходит. \n",
    "\n",
    "-------------------------------------"
   ]
  },
  {
   "cell_type": "markdown",
   "id": "fd03bc10",
   "metadata": {},
   "source": [
    "<img src='MW_2005.png' style='width:250px;height:350px'/>\n",
    "<img src='MW_2012.png' style='width:250px;height:350px'/>"
   ]
  },
  {
   "cell_type": "code",
   "execution_count": null,
   "id": "2142c0f5",
   "metadata": {},
   "outputs": [],
   "source": [
    "df_sales['Name'].value_counts()[1:]"
   ]
  },
  {
   "cell_type": "markdown",
   "id": "69b6e59d",
   "metadata": {},
   "source": [
    "-------------------------------------\n",
    "Просмотрев следующее число платформ заметим что у нас идут сразу четыре игры, поэтому мы выведем их все.\n",
    "\n",
    "-------------------------------------"
   ]
  },
  {
   "cell_type": "code",
   "execution_count": null,
   "id": "cd5fbf04",
   "metadata": {},
   "outputs": [],
   "source": [
    "df_sales[df_sales['Name'] == df_sales['Name'].value_counts()[1:].idxmax()][['Name', 'Platform']]"
   ]
  },
  {
   "cell_type": "code",
   "execution_count": null,
   "id": "e2768035",
   "metadata": {},
   "outputs": [],
   "source": [
    "df_sales[df_sales['Name'] == df_sales['Name'].value_counts()[2:].idxmax()][['Name', 'Platform']]"
   ]
  },
  {
   "cell_type": "code",
   "execution_count": null,
   "id": "11a2937d",
   "metadata": {},
   "outputs": [],
   "source": [
    "df_sales[df_sales['Name'] == df_sales['Name'].value_counts()[3:].idxmax()][['Name', 'Platform']]"
   ]
  },
  {
   "cell_type": "code",
   "execution_count": null,
   "id": "2a04cb6f",
   "metadata": {},
   "outputs": [],
   "source": [
    "df_sales[df_sales['Name'] == df_sales['Name'].value_counts()[4:].idxmax()][['Name', 'Platform']]"
   ]
  },
  {
   "cell_type": "markdown",
   "id": "226addc0",
   "metadata": {},
   "source": [
    "-------------------------------------\n",
    "\n",
    "Лидирующие позиции в самых многоплатформенных играх занимают - 'FIFA 14', 'Ratatouille', 'LEGO Marvel Super Heroes', 'Madden NFL 07'. Так же можно заметить, что названия некоторых платформ есть в одних играх, но нет в других. Поэтому можно сделать вывод, что игры содержат не одно и то же множество платформ.\n",
    "\n",
    "-------------------------------------"
   ]
  },
  {
   "cell_type": "markdown",
   "id": "a0839209",
   "metadata": {},
   "source": [
    "## 2. Рассчитать топ-3 и антитоп-3 издателя по количеству дохода используя данные Северной Америки и Японии."
   ]
  },
  {
   "cell_type": "markdown",
   "id": "ce436f47",
   "metadata": {},
   "source": [
    "### Америка"
   ]
  },
  {
   "cell_type": "code",
   "execution_count": null,
   "id": "e7acad56",
   "metadata": {},
   "outputs": [],
   "source": [
    "df_sales.groupby(by='Publisher').sum().nlargest(3, 'NA_Sales')['NA_Sales']"
   ]
  },
  {
   "cell_type": "code",
   "execution_count": null,
   "id": "fdd65efd",
   "metadata": {},
   "outputs": [],
   "source": [
    "df_sales.groupby(by='Publisher').sum().nsmallest(3, 'NA_Sales')['NA_Sales']"
   ]
  },
  {
   "cell_type": "markdown",
   "id": "7ce8d650",
   "metadata": {},
   "source": [
    "-------------------------------------\n",
    "\n",
    "Результаты вывода по Северной Америке показывают, что самые высокие позиции доходах у:\n",
    "- Nintendo - $817 миллиона\n",
    "\n",
    "- Electronic Arts - $595 миллиона\n",
    "\n",
    "- Activision - $429.75 миллиона \n",
    "\n",
    "А самые низкие:\n",
    "- 2D Boy - $0.0 миллиона \n",
    "\n",
    "- 49Games - $0.0 миллиона \n",
    "\n",
    "- 7G//AMES - $0.0 миллиона \n",
    "\n",
    "В результатах мы видим, что у антитопа прослеживаются нулевые доходы. Возможно это связанно с тем, что доходы компании были настолько малы, что данные в итоге не могут поддержаться, либо же эти компании не участвовали на американском рынке.\n",
    "\n",
    "-------------------------------------"
   ]
  },
  {
   "cell_type": "markdown",
   "id": "bcfb3b00",
   "metadata": {},
   "source": [
    "### Япония"
   ]
  },
  {
   "cell_type": "code",
   "execution_count": null,
   "id": "273c4160",
   "metadata": {},
   "outputs": [],
   "source": [
    "df_sales.groupby(by='Publisher').sum().nlargest(3, 'JP_Sales')['JP_Sales']"
   ]
  },
  {
   "cell_type": "code",
   "execution_count": null,
   "id": "7f0d7aff",
   "metadata": {},
   "outputs": [],
   "source": [
    "df_sales.groupby(by='Publisher').sum().nsmallest(3, 'JP_Sales')['JP_Sales']"
   ]
  },
  {
   "cell_type": "markdown",
   "id": "ed149f2b",
   "metadata": {},
   "source": [
    "-------------------------------------\n",
    "Результаты же вывода по Японии показывают что самые высокие позиции в доходах у:\n",
    "- Nintendo - $455.5 миллиона\n",
    "\n",
    "- Namco Bandai Games - $127 миллиона\n",
    "\n",
    "- Konami Digital Entertainment - $91.3 миллиона\n",
    "\n",
    "А самые низкие:\n",
    "- 10TACLE Studios - $0.0 миллиона\n",
    "\n",
    "- 1C Company - $0.0 миллиона\n",
    "\n",
    "- 20th Century Fox Video Games - $0.0 миллиона\n",
    "\n",
    "В случае же с самыми малыми доходами мы можем наблюдать ту же картину что и на американском рынке. Либо доходы компании малы, либо они не участвовали в японском рынке\n",
    "\n",
    "-------------------------------------"
   ]
  },
  {
   "cell_type": "markdown",
   "id": "159b0024",
   "metadata": {},
   "source": [
    "## 3. Рассчитать на какую платформу выпустили больше всего игр."
   ]
  },
  {
   "cell_type": "code",
   "execution_count": null,
   "id": "1d87dbe9",
   "metadata": {},
   "outputs": [],
   "source": [
    "df_sales.value_counts('Platform').nlargest(1)"
   ]
  },
  {
   "cell_type": "code",
   "execution_count": null,
   "id": "98f5a6c4",
   "metadata": {},
   "outputs": [],
   "source": [
    "df_sales.value_counts('Platform').nlargest(2)"
   ]
  },
  {
   "cell_type": "markdown",
   "id": "0fbafbc5",
   "metadata": {},
   "source": [
    "-------------------------------------\n",
    "В результате мы можем заметить, что большинство игр вышло на Nintendo DS. Что примечательно, другая платформа \n",
    "так же японского производителя - Sony PS2, отстала всего на 2 позиции в нашем DataFrame от лидирующего места. \n",
    "\n",
    "\n",
    "-------------------------------------"
   ]
  },
  {
   "cell_type": "markdown",
   "id": "b6be813a",
   "metadata": {},
   "source": [
    "## 4. Вычислить сколько денег принесла каждая игра в общемировом масштабе.\n"
   ]
  },
  {
   "cell_type": "code",
   "execution_count": null,
   "id": "874612ef",
   "metadata": {},
   "outputs": [],
   "source": [
    "df_sales['World_Sales'] = df_sales['NA_Sales'] + df_sales['EU_Sales'] + \\\n",
    "                          df_sales['JP_Sales'] + df_sales['Other_Sales']"
   ]
  },
  {
   "cell_type": "code",
   "execution_count": null,
   "id": "1cf12b1d",
   "metadata": {
    "scrolled": true
   },
   "outputs": [],
   "source": [
    "df_sales.head()"
   ]
  },
  {
   "cell_type": "markdown",
   "id": "7f41dda6",
   "metadata": {},
   "source": [
    "-------------------------------------\n",
    "\n",
    "С помощью сложения каждого столбца по каждой строке мы добились результата характеризующий мировой доход по каждой игре в нашем DataFrame. Теперь, когда нам известен мировой доход, мы сможем вычислять во сколько раз конкретная игра заработала больше/меньше другой или рассчитать процентный доход игры отсносительно издателя который выпустил ее.\n",
    "\n",
    "-------------------------------------"
   ]
  },
  {
   "cell_type": "markdown",
   "id": "8822fe0f",
   "metadata": {},
   "source": [
    "## 5. Изобразить как росло количество издаваемых игр каждый год."
   ]
  },
  {
   "cell_type": "code",
   "execution_count": null,
   "id": "f8f87011",
   "metadata": {},
   "outputs": [],
   "source": [
    "plt.figure(figsize=(18, 5), dpi=200)\n",
    "plt.xticks(rotation=45)\n",
    "plt.title(\"Количество издаваемых игр в год\")\n",
    "\n",
    "sns.countplot(data=df_sales[df_sales['Year'] > 0], x='Year')\n",
    "\n",
    "plt.xlabel(\"Годы\")\n",
    "plt.ylabel(\"Количество\")\n",
    "\n",
    "plt.show()"
   ]
  },
  {
   "cell_type": "code",
   "execution_count": null,
   "id": "390892d6",
   "metadata": {},
   "outputs": [],
   "source": [
    "df_sales.groupby(by='Year').count()['Name'].sort_values(ascending=False).head()"
   ]
  },
  {
   "cell_type": "code",
   "execution_count": null,
   "id": "1517d2df",
   "metadata": {},
   "outputs": [],
   "source": [
    "df_sales.groupby(by='Year').count()['Name'].sort_values(ascending=True).head(5)"
   ]
  },
  {
   "cell_type": "markdown",
   "id": "6a2deab3",
   "metadata": {},
   "source": [
    "------------------------------------\n",
    "Наиболее результативные года - 2009, 2008\n",
    "\n",
    "Наименее результативные года - 2020, 2017\n",
    "\n",
    "Так же на графике мы можем наблюдать как с 1991 года пошел активный рост количества игр, пик которого был в 2009 году и составлял 1431 игры с последующим уменьшением количества до всего одной к 2020 году.\n",
    "\n",
    "\n",
    "-------------------------------------"
   ]
  },
  {
   "cell_type": "markdown",
   "id": "251a2aa6",
   "metadata": {},
   "source": [
    "## Вывод\n",
    "\n",
    "- Из csv-файла извлекли необходмые данные - типы данных не требуют преобразования, пропуски были найдены в двух колонка и обработаны.\n",
    "\n",
    "\n",
    "- Наиболее многоплатформенные игры -  'FIFA 14', 'Ratatouille', 'LEGO Marvel Super Heroes', 'Madden NFL 07'. Эти игры были выпущенны на 9ти различных платформах\n",
    "\n",
    "\n",
    "- Лидирующие позиции по выручке в:\n",
    "\n",
    "     - Америке - Nintendo, EA, Activision\n",
    "\n",
    "     - Японии - Nintendo, Namco Bandai Games , Konami Digital Entertainment\n",
    "     \n",
    "\n",
    "- Платформа на которую выпускали чаще всего игры - Nintendo DS. При анализе было обнаруженно, что платформа DS ушла на 2 позиции больше, чем другая платформа от другого японского гиганта Sony - PS2\n",
    "\n",
    "\n",
    "- Так же было выяснено сколько каждая игра принесла в общемировом масштабе для того, чтобы производить по необходимости более глубокий анализ причастности каждой игры к определенному показателю\n",
    "\n",
    "\n",
    "- Был сделан показательный график количества выпускаемых игр в каждый год:\n",
    "    -  2009 и 2008 - самые результативные года с точки зрения количества выпускаемых игр\n",
    "    -  2020 и 2017 - оказались самыми наименнее результативными годами."
   ]
  }
 ],
 "metadata": {
  "kernelspec": {
   "display_name": "Python 3 (ipykernel)",
   "language": "python",
   "name": "python3"
  },
  "language_info": {
   "codemirror_mode": {
    "name": "ipython",
    "version": 3
   },
   "file_extension": ".py",
   "mimetype": "text/x-python",
   "name": "python",
   "nbconvert_exporter": "python",
   "pygments_lexer": "ipython3",
   "version": "3.9.13"
  }
 },
 "nbformat": 4,
 "nbformat_minor": 5
}
