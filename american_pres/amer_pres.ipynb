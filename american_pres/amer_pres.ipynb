{
 "cells": [
  {
   "cell_type": "markdown",
   "id": "5adc4bc9",
   "metadata": {},
   "source": [
    "## Веб-скрейпинг из Википедии и анализ данных на примере страницы с президентами в США"
   ]
  },
  {
   "cell_type": "markdown",
   "id": "28458ac3",
   "metadata": {},
   "source": [
    "<img src='web_scrap-696x400.jpg' style='width:600px;height:350px'/>"
   ]
  },
  {
   "cell_type": "markdown",
   "id": "36609630",
   "metadata": {},
   "source": [
    "Компания \"Тралала\" решила проверить навыки работников и поручила одному из них:\n",
    "\n",
    "1. Сделать веб-скрейпинг с любой веб-страницы(в данном примере - страницы из Википедии);\n",
    "2. Провести необходимые преобразования данных и убрать лишний 'мусор', который засоряет данные, чтобы можно было их анализировать и проводить стастические действия.\n",
    "3. С помощью SQLite3 сделать контент-анализ данных и вычислить некоторые статистические признаки."
   ]
  },
  {
   "cell_type": "markdown",
   "id": "624e0b36",
   "metadata": {},
   "source": [
    "###### Импортируем необходимые библиотеки"
   ]
  },
  {
   "cell_type": "code",
   "execution_count": null,
   "id": "12c47722",
   "metadata": {},
   "outputs": [],
   "source": [
    "import pandas as pd\n",
    "import numpy as np\n",
    "import sqlite3"
   ]
  },
  {
   "cell_type": "markdown",
   "id": "92858862",
   "metadata": {},
   "source": [
    "Для начала найдем подходящую нам страницу.\n",
    "\n",
    "Выберем для анализа таблицу с президентами США - https://en.wikipedia.org/wiki/List_of_presidents_of_the_United_States"
   ]
  },
  {
   "cell_type": "markdown",
   "id": "ef773b79",
   "metadata": {},
   "source": [
    "<img src='scrinshot_1.png' style='width:700px;height:400px'/>"
   ]
  },
  {
   "cell_type": "markdown",
   "id": "3f6d2592",
   "metadata": {},
   "source": [
    "Привяжем ссылку к переменной url:"
   ]
  },
  {
   "cell_type": "code",
   "execution_count": null,
   "id": "d0bf57ee",
   "metadata": {},
   "outputs": [],
   "source": [
    "url = 'https://en.wikipedia.org/wiki/List_of_presidents_of_the_United_States'"
   ]
  },
  {
   "cell_type": "markdown",
   "id": "2228962d",
   "metadata": {},
   "source": [
    "Далее воспользуемся Pandas для того чтобы прочитать страницу и передать ссылку в переменную tables"
   ]
  },
  {
   "cell_type": "code",
   "execution_count": null,
   "id": "f49f1c28",
   "metadata": {},
   "outputs": [],
   "source": [
    "tables = pd.read_html(url)"
   ]
  },
  {
   "cell_type": "markdown",
   "id": "67e23830",
   "metadata": {},
   "source": [
    "Посмотрим сколько таблиц в было на странице:"
   ]
  },
  {
   "cell_type": "code",
   "execution_count": null,
   "id": "821798b9",
   "metadata": {},
   "outputs": [],
   "source": [
    "len(tables)"
   ]
  },
  {
   "cell_type": "markdown",
   "id": "9c0654c7",
   "metadata": {},
   "source": [
    "Нужная таблица с презедентами находиться под индексом 0"
   ]
  },
  {
   "cell_type": "markdown",
   "id": "32f44b5b",
   "metadata": {},
   "source": [
    "<img src='scrinshot_2.png' style='width:650px;height:400px'/>"
   ]
  },
  {
   "cell_type": "markdown",
   "id": "b0b7bfbe",
   "metadata": {},
   "source": [
    "Сохраним таблицу в переменную df_USA_presidents."
   ]
  },
  {
   "cell_type": "code",
   "execution_count": null,
   "id": "7d15f762",
   "metadata": {},
   "outputs": [],
   "source": [
    "df_USA_presidents = tables[0]"
   ]
  },
  {
   "cell_type": "markdown",
   "id": "e5f4d0eb",
   "metadata": {},
   "source": [
    "Посмотрим на получившеюся таблицу:"
   ]
  },
  {
   "cell_type": "code",
   "execution_count": null,
   "id": "ee3d0e27",
   "metadata": {},
   "outputs": [],
   "source": [
    "df_USA_presidents.head()"
   ]
  },
  {
   "cell_type": "markdown",
   "id": "3e765d3c",
   "metadata": {},
   "source": [
    "Получившаяся таблица не особо годиться для использования, так что давайте займемся подготовкой данных к анализу.\n",
    "\n",
    "Можем заметить что в колонках `Portrait` и `Party[b][15]` у нас проставлены NaN значения. В итоговой таблице нам не понадобяться портреты президентов и цвет их партии, так что применем функцию drop для данных колонок."
   ]
  },
  {
   "cell_type": "code",
   "execution_count": null,
   "id": "b02274ac",
   "metadata": {},
   "outputs": [],
   "source": [
    "df_USA_presidents = df_USA_presidents.drop(['Portrait', 'Party[b][15]'], axis=1)"
   ]
  },
  {
   "cell_type": "code",
   "execution_count": null,
   "id": "66c38578",
   "metadata": {},
   "outputs": [],
   "source": [
    "df_USA_presidents.head()"
   ]
  },
  {
   "cell_type": "markdown",
   "id": "9f734bfa",
   "metadata": {},
   "source": [
    "Следующим шагом предлагаю редактировать название колонок, чтобы избавиться от сносок, которые были полезны на html странице, но здесь не имеют ничего подобного."
   ]
  },
  {
   "cell_type": "code",
   "execution_count": null,
   "id": "3837fc06",
   "metadata": {},
   "outputs": [],
   "source": [
    "df_USA_presidents = df_USA_presidents.rename(columns={'No.[a]': 'No', \n",
    "                                                      'Term[14]': 'Term', \n",
    "                                                      'Party[b][15].1': 'Party', \n",
    "                                                      'Vice President[16]': 'Vice President'})"
   ]
  },
  {
   "cell_type": "code",
   "execution_count": null,
   "id": "3832b87d",
   "metadata": {},
   "outputs": [],
   "source": [
    "df_USA_presidents.head()"
   ]
  },
  {
   "cell_type": "markdown",
   "id": "188583e9",
   "metadata": {},
   "source": [
    "Поскольку колонка `No` является номерной от первого президент до настоящего. Сделаем эту колонку индексом в нашем датафрейме."
   ]
  },
  {
   "cell_type": "code",
   "execution_count": null,
   "id": "ec152732",
   "metadata": {},
   "outputs": [],
   "source": [
    "df_USA_presidents = df_USA_presidents.set_index('No')"
   ]
  },
  {
   "cell_type": "code",
   "execution_count": null,
   "id": "5af7b1b5",
   "metadata": {},
   "outputs": [],
   "source": [
    "df_USA_presidents.head()"
   ]
  },
  {
   "cell_type": "markdown",
   "id": "32eba068",
   "metadata": {},
   "source": [
    "Колонка с именем и датой рождения/смерти не совсем удобна для того, чтобы проводить анализ. Следующим шагом разделим их отдельно на колонку Name и для начала Birth_Death."
   ]
  },
  {
   "cell_type": "code",
   "execution_count": null,
   "id": "a7474207",
   "metadata": {},
   "outputs": [],
   "source": [
    "df_USA_presidents['Name'] = df_USA_presidents['Name(Birth–Death)'].apply(lambda x: x.split('(')[0]) \n",
    "\n",
    "df_USA_presidents['Birth–Death'] = df_USA_presidents['Name(Birth–Death)'].\\\n",
    "                                                     apply(lambda x: x.split('(')[1].split(')[')[0])\n",
    "\n"
   ]
  },
  {
   "cell_type": "code",
   "execution_count": null,
   "id": "b507f0f3",
   "metadata": {},
   "outputs": [],
   "source": [
    "df_USA_presidents.head()"
   ]
  },
  {
   "cell_type": "code",
   "execution_count": null,
   "id": "3fe6cd1e",
   "metadata": {},
   "outputs": [],
   "source": [
    "df_USA_presidents.tail()"
   ]
  },
  {
   "cell_type": "markdown",
   "id": "82d2bda9",
   "metadata": {},
   "source": [
    "Как мы можем заметить колонка `Birth–Death` содержит ныне живущих людей, что были на должности президента или сейчас на ней без даты смерти. Чтобы в запросах корректно отображалась информация, запишем для таких президентов значения - 0 и уведомим в характеристиках датафрейма, что в колонке Death_date значение 0 - это отсутствие даты смерти."
   ]
  },
  {
   "cell_type": "code",
   "execution_count": null,
   "id": "8532c87c",
   "metadata": {},
   "outputs": [],
   "source": [
    "df_USA_presidents['Birth_date'] = df_USA_presidents['Birth–Death'].\\\n",
    "                                                apply(lambda x: x.split('–')[0] if '–' in x else x.split(' ')[1])\n",
    "\n",
    "df_USA_presidents['Death_date'] = df_USA_presidents['Birth–Death'].\\\n",
    "                                                apply(lambda x: x.split('–')[1] if '–' in x else 0)"
   ]
  },
  {
   "cell_type": "code",
   "execution_count": null,
   "id": "bc3232d7",
   "metadata": {},
   "outputs": [],
   "source": [
    "df_USA_presidents.head()"
   ]
  },
  {
   "cell_type": "markdown",
   "id": "9923f742",
   "metadata": {},
   "source": [
    "Преобразование колонок мы сделали, теперь удалим исходные, чтобы не было лишних. "
   ]
  },
  {
   "cell_type": "code",
   "execution_count": null,
   "id": "4df0a896",
   "metadata": {},
   "outputs": [],
   "source": [
    "df_USA_presidents = df_USA_presidents.drop(['Name(Birth–Death)', 'Birth–Death'], axis=1)"
   ]
  },
  {
   "cell_type": "markdown",
   "id": "7bd33875",
   "metadata": {},
   "source": [
    "Следующим шагом переставим колонки так, как было изначально."
   ]
  },
  {
   "cell_type": "code",
   "execution_count": null,
   "id": "2defd2d5",
   "metadata": {},
   "outputs": [],
   "source": [
    "df_USA_presidents = df_USA_presidents[['Name', 'Birth_date', 'Death_date', 'Term', 'Party', 'Election', 'Vice President']]"
   ]
  },
  {
   "cell_type": "code",
   "execution_count": null,
   "id": "8d92690c",
   "metadata": {},
   "outputs": [],
   "source": [
    "df_USA_presidents.head()"
   ]
  },
  {
   "cell_type": "markdown",
   "id": "c8bdd8b6",
   "metadata": {},
   "source": [
    "Данные выглядят уже намного лучше, но все еще требуют исправлений. Займемся сроком управления и преобразуем даты в количество дней, для того чтобы было удобно в дальнейшем, если понадобиться, распределять президентов по этому признаку. По скольку нынешний президент все еще на посту, можно было бы использовать сегодняшнюю дату, но ввиду возможных вычислений, лучше будет убрать его и работать только с предыдущими президентами."
   ]
  },
  {
   "cell_type": "code",
   "execution_count": null,
   "id": "aeed8de2",
   "metadata": {},
   "outputs": [],
   "source": [
    "df_USA_presidents['start'] = df_USA_presidents['Term'].apply(lambda date: date.split('–')[0])\n",
    "df_USA_presidents['end'] = df_USA_presidents['Term'].apply(lambda date: date.split('–')[1])\n",
    "\n",
    "df_USA_presidents = df_USA_presidents[df_USA_presidents['Name'] != 'Joe Biden']"
   ]
  },
  {
   "cell_type": "code",
   "execution_count": null,
   "id": "00a2c0cb",
   "metadata": {},
   "outputs": [],
   "source": [
    "df_USA_presidents"
   ]
  },
  {
   "cell_type": "markdown",
   "id": "1725f65f",
   "metadata": {},
   "source": [
    "Мы разделили даты, но в некоторых из них существуют сноски из html страницы. Поэтому проделаем еще работу для того, чтобы сделать данные чище. "
   ]
  },
  {
   "cell_type": "code",
   "execution_count": null,
   "id": "58d6c2b7",
   "metadata": {},
   "outputs": [],
   "source": [
    "df_USA_presidents['start'] = df_USA_presidents['start'].apply(lambda date: date.split('[')[0])\n",
    "df_USA_presidents['end'] = df_USA_presidents['end'].apply(lambda date: date.split('[')[0])"
   ]
  },
  {
   "cell_type": "code",
   "execution_count": null,
   "id": "3b25fef3",
   "metadata": {
    "scrolled": true
   },
   "outputs": [],
   "source": [
    "df_USA_presidents.head()"
   ]
  },
  {
   "cell_type": "markdown",
   "id": "75430cfe",
   "metadata": {},
   "source": [
    "Так же сноски из html страницы есть в колонке party. Давайте почистим и эту колонку тоже."
   ]
  },
  {
   "cell_type": "code",
   "execution_count": null,
   "id": "1106e874",
   "metadata": {},
   "outputs": [],
   "source": [
    "df_USA_presidents['Party'] = df_USA_presidents['Party'].\\\n",
    "                    apply(lambda party: party.split('[')[0] + party.split('[')[1][2:] if '[' in party else party) "
   ]
  },
  {
   "cell_type": "code",
   "execution_count": null,
   "id": "ffa66da5",
   "metadata": {},
   "outputs": [],
   "source": [
    "df_USA_presidents"
   ]
  },
  {
   "cell_type": "markdown",
   "id": "b6a52240",
   "metadata": {},
   "source": [
    "Теперь займемся вычислением количества дней."
   ]
  },
  {
   "cell_type": "code",
   "execution_count": null,
   "id": "9829af43",
   "metadata": {},
   "outputs": [],
   "source": [
    "df_USA_presidents['start'] = pd.to_datetime(df_USA_presidents['start'])\n",
    "df_USA_presidents['end'] = pd.to_datetime(df_USA_presidents['end'])\n"
   ]
  },
  {
   "cell_type": "code",
   "execution_count": null,
   "id": "f6228dfe",
   "metadata": {},
   "outputs": [],
   "source": [
    "df_USA_presidents.head()"
   ]
  },
  {
   "cell_type": "code",
   "execution_count": null,
   "id": "4d01a944",
   "metadata": {},
   "outputs": [],
   "source": [
    "df_USA_presidents['Term_in_days'] = (df_USA_presidents['end'] - df_USA_presidents['start']).dt.days"
   ]
  },
  {
   "cell_type": "code",
   "execution_count": null,
   "id": "b4ec9470",
   "metadata": {
    "scrolled": true
   },
   "outputs": [],
   "source": [
    "df_USA_presidents.head()"
   ]
  },
  {
   "cell_type": "markdown",
   "id": "9ef84905",
   "metadata": {},
   "source": [
    "Мы вычислили срок правления в днях, теперь составим конечный вариант датафрейма. \n",
    "\n",
    "Мы будем использовать колонки `Name` - Имя, `Birth_date` - Дата рождения, `Death_date` - Дата смерти, `Term_in_days` - Срок правления в днях, `Party` - Партия. Колонки `Election` и `Vice President` в итоговый датафрейм мы не будем включать, так как в иследовании эти колонки не будут принимать участия."
   ]
  },
  {
   "cell_type": "code",
   "execution_count": null,
   "id": "61485fbd",
   "metadata": {},
   "outputs": [],
   "source": [
    "df_USA_presidents = df_USA_presidents[['Name', 'Birth_date', 'Death_date', 'Term_in_days', 'Party']]"
   ]
  },
  {
   "cell_type": "code",
   "execution_count": null,
   "id": "62051d0b",
   "metadata": {},
   "outputs": [],
   "source": [
    "df_USA_presidents.head()"
   ]
  },
  {
   "cell_type": "markdown",
   "id": "2c61a8a9",
   "metadata": {},
   "source": [
    "Итак мы провели подготовку и очистку данных и теперь можем с ними работать."
   ]
  },
  {
   "cell_type": "markdown",
   "id": "b4315d65",
   "metadata": {},
   "source": [
    "#### Краткая информация о датафрейме:"
   ]
  },
  {
   "cell_type": "code",
   "execution_count": null,
   "id": "a20891c0",
   "metadata": {
    "scrolled": true
   },
   "outputs": [],
   "source": [
    "df_USA_presidents.info()"
   ]
  },
  {
   "cell_type": "markdown",
   "id": "9a90be01",
   "metadata": {},
   "source": [
    "df_sales — результат запроса. В нём содержится следующая информация:\n",
    "\n",
    "- Name - ФИО президента\n",
    "- Birth_date - Дата рождения\n",
    "- Death_date - Дата смерти (у бывших президентов, которые ныне живы, проставлены в строках 0)\n",
    "- Term_in_days - Срок правления в днях\n",
    "- Party - Партия президента\n",
    "\n",
    "Так же в таблице исключен нынешний президент.\n",
    "\n",
    "Пропуски не обнаружены. Необходимости преобразовывать типы нет.\n",
    "\n",
    "Для срока правления в днях устраивает int64 - целые числа. Можно немного уменьшить занимаемую память, понизив тип до int16.\n"
   ]
  },
  {
   "cell_type": "markdown",
   "id": "55a46d31",
   "metadata": {},
   "source": [
    "###### Уменьшим использование памяти."
   ]
  },
  {
   "cell_type": "code",
   "execution_count": null,
   "id": "1b0f7856",
   "metadata": {},
   "outputs": [],
   "source": [
    "df_USA_presidents = df_USA_presidents.astype({'Term_in_days' : 'int16'})"
   ]
  },
  {
   "cell_type": "code",
   "execution_count": null,
   "id": "37e4d9eb",
   "metadata": {
    "scrolled": true
   },
   "outputs": [],
   "source": [
    "df_USA_presidents.info()"
   ]
  },
  {
   "cell_type": "markdown",
   "id": "e77384c1",
   "metadata": {},
   "source": [
    "Незначительно уменьшели занимаемую память."
   ]
  },
  {
   "cell_type": "markdown",
   "id": "afbdb619",
   "metadata": {},
   "source": [
    "### Перейдем к анализу данных датафрейма с помощью SQLlite3.\n",
    "\n",
    "Для этого создадим подключение к базе данных и подключим датафрейм к ней.\n",
    "\n",
    "На выходе получаем количество строк в таблице."
   ]
  },
  {
   "cell_type": "code",
   "execution_count": null,
   "id": "ae4b47c6",
   "metadata": {},
   "outputs": [],
   "source": [
    "con = sqlite3.connect('db')\n",
    "df_USA_presidents_SQL = df_USA_presidents\n",
    "df_USA_presidents_SQL.to_sql('USA_presidents_SQL',con,index=False,if_exists='replace')"
   ]
  },
  {
   "cell_type": "markdown",
   "id": "e0c5cd44",
   "metadata": {},
   "source": [
    "Создадим функцию для того, чтобы удобнее передавать запросы к базе данных."
   ]
  },
  {
   "cell_type": "code",
   "execution_count": null,
   "id": "76223b62",
   "metadata": {},
   "outputs": [],
   "source": [
    "def select(sql):\n",
    "    return pd.read_sql(sql,con)"
   ]
  },
  {
   "cell_type": "markdown",
   "id": "08357ffc",
   "metadata": {},
   "source": [
    "##### Для начала выведем первых 10-ти президентов из таблицы."
   ]
  },
  {
   "cell_type": "code",
   "execution_count": null,
   "id": "0d9922ec",
   "metadata": {},
   "outputs": [],
   "source": [
    "sql = '''\n",
    "SELECT \n",
    "    * \n",
    "FROM \n",
    "    USA_presidents_SQL\n",
    "LIMIT 10\n",
    "'''"
   ]
  },
  {
   "cell_type": "code",
   "execution_count": null,
   "id": "22a73a28",
   "metadata": {},
   "outputs": [],
   "source": [
    "select(sql)"
   ]
  },
  {
   "cell_type": "markdown",
   "id": "01667678",
   "metadata": {},
   "source": [
    "##### Далее давайте посчитаем сколько президентов от какой партии выступали."
   ]
  },
  {
   "cell_type": "code",
   "execution_count": null,
   "id": "b4b1dd4b",
   "metadata": {},
   "outputs": [],
   "source": [
    "sql = '''\n",
    "SELECT \n",
    "    Party,\n",
    "    COUNT(1) as Cnt_party\n",
    "FROM \n",
    "    USA_presidents_SQL\n",
    "GROUP BY \n",
    "    Party\n",
    "ORDER BY \n",
    "    Cnt_party DESC\n",
    "'''"
   ]
  },
  {
   "cell_type": "code",
   "execution_count": null,
   "id": "d1e00a67",
   "metadata": {},
   "outputs": [],
   "source": [
    "select(sql)"
   ]
  },
  {
   "cell_type": "markdown",
   "id": "4cfbe031",
   "metadata": {},
   "source": [
    " Заметим, что большинство президентов выступали от партий - Republican и Democratic."
   ]
  },
  {
   "cell_type": "markdown",
   "id": "ef0a949e",
   "metadata": {},
   "source": [
    "#### Взглянем на президента, которые дольше всех находился у правления страной."
   ]
  },
  {
   "cell_type": "code",
   "execution_count": null,
   "id": "1c404865",
   "metadata": {},
   "outputs": [],
   "source": [
    "sql = '''\n",
    "SELECT \n",
    "    Name,\n",
    "    Term_in_days\n",
    "FROM \n",
    "    USA_presidents_SQL\n",
    "WHERE \n",
    "    Term_in_days = (SELECT MAX(Term_in_days) FROM USA_presidents_SQL)\n",
    "'''"
   ]
  },
  {
   "cell_type": "code",
   "execution_count": null,
   "id": "0f2c0fd8",
   "metadata": {},
   "outputs": [],
   "source": [
    "select(sql)"
   ]
  },
  {
   "cell_type": "code",
   "execution_count": null,
   "id": "77975925",
   "metadata": {},
   "outputs": [],
   "source": [
    "4422 / 365.5"
   ]
  },
  {
   "cell_type": "markdown",
   "id": "d5ad40e7",
   "metadata": {},
   "source": [
    "В результате запроса мы выяснили, что дольше всех у правления был Franklin D. Roosevelt, который занимал место президента больше 12-ти лет."
   ]
  },
  {
   "cell_type": "markdown",
   "id": "f22d3241",
   "metadata": {},
   "source": [
    "#### Теперь посмотрим  на президента, которые меньше всех был у власти."
   ]
  },
  {
   "cell_type": "code",
   "execution_count": null,
   "id": "7813ce61",
   "metadata": {},
   "outputs": [],
   "source": [
    "sql = '''\n",
    "SELECT \n",
    "    Name,\n",
    "    Term_in_days\n",
    "FROM \n",
    "    USA_presidents_SQL\n",
    "WHERE \n",
    "    Term_in_days = (SELECT MIN(Term_in_days) FROM USA_presidents_SQL)\n",
    "'''"
   ]
  },
  {
   "cell_type": "code",
   "execution_count": null,
   "id": "ed787e57",
   "metadata": {},
   "outputs": [],
   "source": [
    "select(sql)"
   ]
  },
  {
   "cell_type": "markdown",
   "id": "3909a1d7",
   "metadata": {},
   "source": [
    "Данный запрос показал, что меньше всех был у власти William Henry Harrison, который умер спустя месяц после выборов."
   ]
  },
  {
   "cell_type": "markdown",
   "id": "4e62df8c",
   "metadata": {},
   "source": [
    "####  Найдем количество президентов родившихся в 18, 19, 20 веках (Не считая нынешнего)."
   ]
  },
  {
   "cell_type": "code",
   "execution_count": null,
   "id": "ff220854",
   "metadata": {},
   "outputs": [],
   "source": [
    "sql = '''\n",
    "SELECT \n",
    "    COUNT(Name) FILTER(WHERE Birth_date BETWEEN 1700 and 1799) as '18th_century',\n",
    "    COUNT(Name) FILTER(WHERE Birth_date BETWEEN 1800 and 1899) as '19th_century',\n",
    "    COUNT(Name) FILTER(WHERE Birth_date BETWEEN 1900 and 1999) as '20th_century'\n",
    "FROM \n",
    "    USA_presidents_SQL\n",
    "'''"
   ]
  },
  {
   "cell_type": "code",
   "execution_count": null,
   "id": "830553e5",
   "metadata": {},
   "outputs": [],
   "source": [
    "select(sql)"
   ]
  },
  {
   "cell_type": "markdown",
   "id": "6b27afed",
   "metadata": {},
   "source": [
    "По выводу мы можем однозначно можем сказать:\n",
    "\n",
    "    - 13 президентов родились в 18 веке;\n",
    "    - 21 президент родились в 19 веке;\n",
    "    - 11 президентов родились в 20 веке."
   ]
  },
  {
   "cell_type": "markdown",
   "id": "23dd6ba3",
   "metadata": {},
   "source": [
    "#### Вспомним как выглядел наша таблица и посмотрим на президента, который прожил больше других."
   ]
  },
  {
   "cell_type": "code",
   "execution_count": null,
   "id": "81e0713d",
   "metadata": {},
   "outputs": [],
   "source": [
    "sql = '''\n",
    "SELECT \n",
    "    * \n",
    "FROM \n",
    "    USA_presidents_SQL\n",
    "LIMIT \n",
    "    5\n",
    "'''"
   ]
  },
  {
   "cell_type": "code",
   "execution_count": null,
   "id": "bc436cf1",
   "metadata": {},
   "outputs": [],
   "source": [
    "select(sql)"
   ]
  },
  {
   "cell_type": "code",
   "execution_count": null,
   "id": "ca456904",
   "metadata": {},
   "outputs": [],
   "source": [
    "sql = '''\n",
    "SELECT \n",
    "    Name,\n",
    "    MAX(Death_date - Birth_date) FILTER(WHERE Death_date != 0) as age\n",
    "FROM \n",
    "    USA_presidents_SQL\n",
    "'''"
   ]
  },
  {
   "cell_type": "code",
   "execution_count": null,
   "id": "e59de32c",
   "metadata": {},
   "outputs": [],
   "source": [
    "select(sql)"
   ]
  },
  {
   "cell_type": "markdown",
   "id": "1d8e1319",
   "metadata": {},
   "source": [
    "Среди ранее живших George H.W. Bush - 41-ый президент США, прожил дольше остальных, но давайте проверим, есть ли кто-то, кто прожил больше лет и все еще живет свою прекрасную жизнь."
   ]
  },
  {
   "cell_type": "code",
   "execution_count": null,
   "id": "af059dd9",
   "metadata": {},
   "outputs": [],
   "source": [
    "sql = '''\n",
    "SELECT \n",
    "    Name,\n",
    "    MAX(date('now') - Birth_date) FILTER(WHERE Death_date == 0) - 1 as age\n",
    "FROM \n",
    "    USA_presidents_SQL\n",
    "'''"
   ]
  },
  {
   "cell_type": "code",
   "execution_count": null,
   "id": "0bbd3a0a",
   "metadata": {},
   "outputs": [],
   "source": [
    "select(sql)"
   ]
  },
  {
   "cell_type": "markdown",
   "id": "ab736567",
   "metadata": {},
   "source": [
    "И к большому удивлению запрос вернул Jimmy Carter - 39-го президента США, который прожил на данный момент 98 лет."
   ]
  },
  {
   "cell_type": "markdown",
   "id": "3433c789",
   "metadata": {},
   "source": [
    "## Выводы:\n",
    "\n",
    "- Из страницы Википедии о презедентах США -  https://en.wikipedia.org/wiki/List_of_presidents_of_the_United_States мы достали данные с помощью Pandas и загрузили их в датафрейм.\n",
    "\n",
    "- Поскольку данные нуждались в очистке и преобразовании, было решено произвести необходимые действия. \n",
    "    - Колонка с именем, датой рождения и смерти была разделена на три колонки, для более удобного взаимодействия с данными.\n",
    "    - Было посчитано из дат о сроке правления, сколько дней пробыл каждый из презедентов на посту.\n",
    "    - Данные были очищены от сносок, которые были полезны на html странице, но в нашей таблице не несли никакого смысла.\n",
    "    \n",
    "- В анализе данных с помощью подготовленного датафрейма был использован SQLite3 и проведены следующие действия:\n",
    "    - Сколько выступало президентов от каждой партии. Больше всего президентов было от партий - Republican и Democratic.\n",
    "    - Был найден президент, чей срок правления составлял больше остальных - Franklin D. Roosevelt, который занимал пост президента почти 13 лет. А наименьший срок имел - William Henry Harrison, который умер спустя месяц после выборов.\n",
    "    - Так же был найден президент, который прожил среди ранее живших больше остальных - George H.W. Bush - 41-ый президент США. А при ныне живущих - Jimmy Carter - 39-ый президент США, который прожил на данный момент 98 лет.\n",
    "    "
   ]
  }
 ],
 "metadata": {
  "kernelspec": {
   "display_name": "Python 3 (ipykernel)",
   "language": "python",
   "name": "python3"
  },
  "language_info": {
   "codemirror_mode": {
    "name": "ipython",
    "version": 3
   },
   "file_extension": ".py",
   "mimetype": "text/x-python",
   "name": "python",
   "nbconvert_exporter": "python",
   "pygments_lexer": "ipython3",
   "version": "3.9.13"
  }
 },
 "nbformat": 4,
 "nbformat_minor": 5
}
