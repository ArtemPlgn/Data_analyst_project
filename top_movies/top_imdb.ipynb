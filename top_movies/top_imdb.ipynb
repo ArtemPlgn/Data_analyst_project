{
 "cells": [
  {
   "cell_type": "markdown",
   "id": "4bd89a33",
   "metadata": {},
   "source": [
    "## Анализ топа фильмов"
   ]
  },
  {
   "cell_type": "markdown",
   "id": "2d963637",
   "metadata": {},
   "source": [
    "<img src='top_movies.jpg' style='width:600px;height:400px'/>"
   ]
  },
  {
   "cell_type": "markdown",
   "id": "a0f5c2fb",
   "metadata": {},
   "source": [
    "----------\n",
    "Комания \"Тралала\" была известна не только по анализу игр, но так же и по анализу лучших фильмов мирового кинематографа, поэтому ей было поручено:\n",
    "\n",
    "1. Успешно загрузить данные, подготовить их и если потребуется - преобразовать для дальнейшего исследования. \n",
    "\n",
    "2. Вычислить статистические признаки по жанрам. \n",
    "\n",
    "3. Вычислить статистические признаки по режессерам.\n",
    "\n",
    "4. А так же провести анализ по возрастному рейтингу и понять существует ли зависимость между возрастным рейтингом и доходом фильмов.\n",
    "\n",
    "----------"
   ]
  },
  {
   "cell_type": "markdown",
   "id": "bc3bbb6d",
   "metadata": {},
   "source": [
    "## Загрузка данных и подготовка к анализу"
   ]
  },
  {
   "cell_type": "code",
   "execution_count": null,
   "id": "432918c2",
   "metadata": {},
   "outputs": [],
   "source": [
    "import pandas as pd\n",
    "import numpy as np\n",
    "import matplotlib.pyplot as plt\n",
    "import seaborn as sns\n",
    "import sqlite3\n",
    "import warnings\n",
    "\n",
    "warnings.filterwarnings(\"ignore\")\n",
    "sns.set_style('darkgrid')"
   ]
  },
  {
   "cell_type": "code",
   "execution_count": null,
   "id": "4826d4b1",
   "metadata": {},
   "outputs": [],
   "source": [
    "try:\n",
    "    df_imdb = pd.read_csv('Top_250_Movies.csv', index_col=[0])\n",
    "except:\n",
    "    print('Ошибка, проверьте правильность заполненных данных')\n",
    "else:\n",
    "    print('Данные успешно загружены')\n"
   ]
  },
  {
   "cell_type": "markdown",
   "id": "300a2895",
   "metadata": {},
   "source": [
    "----------\n",
    "Общая информация по датасету:\n",
    "\n",
    "\n"
   ]
  },
  {
   "cell_type": "code",
   "execution_count": null,
   "id": "1d5f0882",
   "metadata": {},
   "outputs": [],
   "source": [
    "df_imdb.head()"
   ]
  },
  {
   "cell_type": "markdown",
   "id": "5e09d790",
   "metadata": {},
   "source": [
    "--------\n",
    "Информация о пропусках и типах данных\n",
    "\n",
    "---------"
   ]
  },
  {
   "cell_type": "code",
   "execution_count": null,
   "id": "dd96bb89",
   "metadata": {},
   "outputs": [],
   "source": [
    "df_imdb.info()"
   ]
  },
  {
   "cell_type": "markdown",
   "id": "65a2419e",
   "metadata": {},
   "source": [
    "-------------------------------------\n",
    "\n",
    "df_imdb — результат запроса. В нём содержится следующая информация:\n",
    "\n",
    "- `name` - Название фильма\n",
    "- `year` - Год выхода фильма\n",
    "- `rating` - Оценка фильма\n",
    "- `genre` - Жанр фильма\n",
    "- `certificate` - Возрастной рейтинг фильма\n",
    "- `run_time` - Продолжительность фильма \n",
    "- `tagline` - Слоган\n",
    "- `budget` - Бюджет\n",
    "- `box_office` - Общие кассовые сборы по всему миру\n",
    "- `casts` -  Все актеры фильма\n",
    "- `directors` - Режиссер фильма\n",
    "- `writers` - Сценарист фильма\n",
    "\n",
    "Пропуски в таблицах не наблюдаются. Необходимости преобразовывать типы нет.\n",
    "\n",
    "Для колонок `year`, `rating` можем уменьшить занимаемую память\n",
    "\n",
    "-------------------------------------"
   ]
  },
  {
   "cell_type": "code",
   "execution_count": null,
   "id": "4627d14c",
   "metadata": {},
   "outputs": [],
   "source": [
    "df_imdb = df_imdb.astype({'year': 'int16', \n",
    "                          'rating': 'float16'})"
   ]
  },
  {
   "cell_type": "code",
   "execution_count": null,
   "id": "59559b2c",
   "metadata": {},
   "outputs": [],
   "source": [
    "df_imdb.info()"
   ]
  },
  {
   "cell_type": "markdown",
   "id": "ad06a349",
   "metadata": {},
   "source": [
    "----------\n",
    "Немного сэкономили занимаемую память\n",
    "\n",
    "----------"
   ]
  },
  {
   "cell_type": "markdown",
   "id": "4734e1df",
   "metadata": {},
   "source": [
    "----------\n",
    "#### Наличие дубликатов в датасете:"
   ]
  },
  {
   "cell_type": "code",
   "execution_count": null,
   "id": "5bdfdc51",
   "metadata": {},
   "outputs": [],
   "source": [
    "df_imdb.duplicated().sum()"
   ]
  },
  {
   "cell_type": "markdown",
   "id": "d2023776",
   "metadata": {},
   "source": [
    "Дубликаты не обнаружены, можем перейти к анализу.\n",
    "\n",
    "----------"
   ]
  },
  {
   "cell_type": "markdown",
   "id": "a6f24951",
   "metadata": {},
   "source": [
    "## Проведем анализ с жанрами: "
   ]
  },
  {
   "cell_type": "markdown",
   "id": "c5604c34",
   "metadata": {},
   "source": [
    "----------\n",
    "##### Средние рейтинги по жанрам:\n",
    "\n",
    "----------\n"
   ]
  },
  {
   "cell_type": "code",
   "execution_count": null,
   "id": "50467849",
   "metadata": {},
   "outputs": [],
   "source": [
    "df_imdb.groupby(by='genre', as_index=False).mean()[['genre', 'rating']].nlargest(10, 'rating')"
   ]
  },
  {
   "cell_type": "markdown",
   "id": "6df7d50f",
   "metadata": {},
   "source": [
    "----------\n",
    "\n",
    "##### Средняя касса по жанрам:\n",
    "\n",
    "----------"
   ]
  },
  {
   "cell_type": "code",
   "execution_count": null,
   "id": "dff09561",
   "metadata": {},
   "outputs": [],
   "source": [
    "df_genre_bo_mean = df_imdb[['name', 'genre']]\n",
    "df_genre_bo_mean['box_office'] = df_imdb[df_imdb['box_office'].str.isnumeric()]['box_office'].apply(int)\n",
    "\n",
    "df_genre_bo_mean = df_genre_bo_mean.groupby(by='genre', as_index=False).mean()[['genre', 'box_office']].nlargest(10, 'box_office')\n",
    "df_genre_bo_mean"
   ]
  },
  {
   "cell_type": "markdown",
   "id": "42094866",
   "metadata": {},
   "source": [
    "\n",
    "Как мы можем наблюдать, только у одной строки с жанрами средний доход выходит больше чем на миллиард. Другие жанры с учетом того, что мы взяли десять самых кассовых, находятся, не считая еще группы жанров, заметно ниже. И позволяет нам предположиться, что потребитель выбирает в среднем чаще фильмы или мульфильмы с приключениями, экшном, драмой, фантастикой или фэнтази, чем остальные типы жанров\n",
    "\n",
    "Создадим диаграмму, которая визуально поделит нам на три части среднюю кассу.\n",
    "\n"
   ]
  },
  {
   "cell_type": "code",
   "execution_count": null,
   "id": "8a48f77c",
   "metadata": {},
   "outputs": [],
   "source": [
    "plt.figure(figsize=(10, 4), dpi=200)\n",
    "plt.title('Cредняя касса по жанрам в миллиардах')\n",
    "plt.xticks(rotation=30)\n",
    "\n",
    "sns.histplot(data=df_genre_bo_mean, x='box_office', y='genre', bins=3);"
   ]
  },
  {
   "cell_type": "markdown",
   "id": "47f2e8ab",
   "metadata": {},
   "source": [
    "----------\n",
    "\n",
    "##### Найдем к каким жанрам относятся 10 самых лучших фильмов.\n",
    "\n",
    "----------"
   ]
  },
  {
   "cell_type": "code",
   "execution_count": null,
   "id": "6a929de5",
   "metadata": {},
   "outputs": [],
   "source": [
    "top_10 = df_imdb.nlargest(10, 'rating')\n",
    "\n",
    "plt.figure(figsize=(10, 4), dpi=200)\n",
    "plt.title('Топ-10 фильмов по жанру')\n",
    "plt.xticks(rotation=30)\n",
    "\n",
    "sns.countplot(data=top_10, x='genre', palette='magma');\n"
   ]
  },
  {
   "cell_type": "markdown",
   "id": "551d9896",
   "metadata": {},
   "source": [
    "\n",
    "На таблице можно заметить, что 10-ка наиболее оценненых фильмов принадлежит столбцу с жанрами - 'Crime, Drama', на втором месте - 'Action, Adventure, Drama'. Остальные фильмы распределились равномерно между собой.\n",
    "\n",
    "----------"
   ]
  },
  {
   "cell_type": "markdown",
   "id": "54c3279f",
   "metadata": {},
   "source": [
    "## Проведем анализ по режиссерам:"
   ]
  },
  {
   "cell_type": "markdown",
   "id": "ac66d67f",
   "metadata": {},
   "source": [
    "----------\n",
    "##### Средний доход фильмов по режиссерам\n",
    "\n",
    "----------"
   ]
  },
  {
   "cell_type": "code",
   "execution_count": null,
   "id": "118359c0",
   "metadata": {},
   "outputs": [],
   "source": [
    "df_dir_mean = df_imdb[['name', 'directors']]\n",
    "df_dir_mean['box_office'] = df_imdb[df_imdb['box_office'].str.isnumeric()]['box_office'].apply(int)\n",
    "\n",
    "df_dir_mean = df_dir_mean.groupby(by='directors', as_index=False).mean()[['directors', 'box_office']].nlargest(10, 'box_office')\n",
    "\n",
    "df_dir_mean"
   ]
  },
  {
   "cell_type": "markdown",
   "id": "cc5b0fc0",
   "metadata": {},
   "source": [
    "\n",
    "На результате выдим, что у большинства, а имеенно у 6-ти режиссеров, киноленты собрали в среднем миллиард долларов.\n",
    "\n",
    "----------"
   ]
  },
  {
   "cell_type": "markdown",
   "id": "f87d6c1e",
   "metadata": {},
   "source": [
    "----------\n",
    "##### Режиссеры, которые попали в рейтинг чаще остальных.\n",
    "\n",
    "----------"
   ]
  },
  {
   "cell_type": "code",
   "execution_count": null,
   "id": "aaee8e71",
   "metadata": {},
   "outputs": [],
   "source": [
    "df_dir_count = df_imdb[['name', 'directors']]\n",
    "df_dir_count.groupby(by='directors').count().nlargest(10, 'name')"
   ]
  },
  {
   "cell_type": "markdown",
   "id": "92817b01",
   "metadata": {},
   "source": [
    "\n",
    "Как мы можем наблюдать по выводу - Akira Kurosawa, Christopher Nolan, Martin Scorsese, Stanley Kubrick и Steven Spielberg удостоились чести попасть в рейтинг по 7 раз каждый.\n",
    "\n",
    "----------"
   ]
  },
  {
   "cell_type": "markdown",
   "id": "0ea0e479",
   "metadata": {},
   "source": [
    "----------\n",
    "##### Режиссеры 10-ти самых высокооцененных фильмов:\n",
    "\n",
    "----------"
   ]
  },
  {
   "cell_type": "code",
   "execution_count": null,
   "id": "b91b1dc3",
   "metadata": {},
   "outputs": [],
   "source": [
    "top_10_d = df_imdb.nlargest(10, 'rating')\n",
    "\n",
    "plt.figure(figsize=(10, 5), dpi=200)\n",
    "plt.title('Режиссеры десяти самых высокооцененных фильмов')\n",
    "plt.xticks(rotation=30)\n",
    "sns.countplot(data=top_10_d, x='directors', palette='magma');"
   ]
  },
  {
   "cell_type": "markdown",
   "id": "2ff6ce25",
   "metadata": {},
   "source": [
    "\n",
    "Судя по выводу диаграммы,  два режиссера, а именно 'Francis Ford Coppola' и 'Peter Jackson' являются заслуженными иконами киноиндустрии, ведь сразу несколько их фильмов попали в топ-10 самых высокоценных фильмов.\n",
    "\n",
    "----------"
   ]
  },
  {
   "cell_type": "markdown",
   "id": "ff55bf79",
   "metadata": {},
   "source": [
    "----------\n",
    "##### Давайте взглянем получше на эти фильмы.\n",
    "\n",
    "----------"
   ]
  },
  {
   "cell_type": "code",
   "execution_count": null,
   "id": "c5a31d61",
   "metadata": {},
   "outputs": [],
   "source": [
    "df_imdb[['name', 'genre', 'directors', 'rating']].nlargest(10, 'rating')"
   ]
  },
  {
   "cell_type": "markdown",
   "id": "f243bc78",
   "metadata": {},
   "source": [
    "----------\n",
    "\n",
    "##### Найдем какую общую сумму заработали все фильмы режессеров и выберем 10 наибольших.\n",
    "\n",
    "----------"
   ]
  },
  {
   "cell_type": "code",
   "execution_count": null,
   "id": "ae519533",
   "metadata": {},
   "outputs": [],
   "source": [
    "df_box_of_with_directors = df_imdb[['name', 'directors']]\n",
    "df_box_of_with_directors['box_office'] = df_imdb[df_imdb['box_office'].str.isnumeric()]['box_office'].apply(int)\n",
    "\n",
    "directors_box_office = df_box_of_with_directors.groupby(by='directors').sum().nlargest(10, 'box_office')\n",
    "\n",
    "\n",
    "plt.figure(figsize=(10, 5), dpi=200)\n",
    "plt.title('Общий доход фильмов по каждому режессеру в миллиардах')\n",
    "plt.xticks(rotation=30)\n",
    "\n",
    "sns.histplot(data=directors_box_office, x='box_office', y='directors', bins=3);"
   ]
  },
  {
   "cell_type": "code",
   "execution_count": null,
   "id": "9dfdaa76",
   "metadata": {},
   "outputs": [],
   "source": [
    "directors_box_office "
   ]
  },
  {
   "cell_type": "markdown",
   "id": "9546a66b",
   "metadata": {},
   "source": [
    "\n",
    "На графике и в выводе результата мы можем наблюдать что:\n",
    "\n",
    "Режиссеры - Jon Watt, Joseph Kosinski, David Yates, Martin Scorsese, Quentin Tarantino и Todd Phillips\n",
    "принесли кассу в промежутке, который начинается с чуть более 1-го миллиарда и заканчиваясь почти на 2-ух миллиардах.\n",
    "\n",
    "Режиссеры - Peter Jackson, Steven Spielberg принесли кассу в промежутку с почти 3-ех до 3.25 миллирадов.\n",
    "\n",
    "Режиссеры - Christopher Nolan и братья Anthony Russo, Joe Russo сильно вырываются вперед и принесли кассу в промежутке с 4.2 до 4.8 миллиардов соответственно.\n",
    "\n",
    "----------"
   ]
  },
  {
   "cell_type": "markdown",
   "id": "19cbc7bf",
   "metadata": {},
   "source": [
    "## Проведем анализ по возрастному рейтингу:"
   ]
  },
  {
   "cell_type": "markdown",
   "id": "c2453578",
   "metadata": {},
   "source": [
    "----------\n",
    "##### Посмотрим на количество фильмов по рейтингу.\n",
    "\n",
    "----------"
   ]
  },
  {
   "cell_type": "code",
   "execution_count": null,
   "id": "1deec6c2",
   "metadata": {},
   "outputs": [],
   "source": [
    "plt.figure(figsize=(10, 5), dpi=200)\n",
    "plt.title('Количество фильмов по возрастному рейтингу')\n",
    "plt.xticks(rotation=30)\n",
    "\n",
    "sns.countplot(data=df_imdb, x='certificate');"
   ]
  },
  {
   "cell_type": "markdown",
   "id": "ef5dc4f9",
   "metadata": {},
   "source": [
    "\n",
    "\n",
    "Из диаграммы мы наблюдаем, что большинство фильмов принадлежат возрастному рейтингу R, который предпологает много насилия и сквернословия. Даллее будут расмотрены обозначения для рейтингов."
   ]
  },
  {
   "cell_type": "markdown",
   "id": "be26b2b8",
   "metadata": {},
   "source": [
    "Вот что означают эти возрастные рейтинги:\n",
    "    \n",
    "    R: Этот сертификат означает \"Действительно, действительно не для детей\". Ожидайте много насилия и сквернословия.\n",
    "    \n",
    "    PG: Это означает \"Вполне подходит для детей\". Могут присутствовать легкие выражения или насилие, но в целом фильм безопасен для маленьких глаз.\n",
    "    \n",
    "    PG-13: \"Родителям настоятельно рекомендуется брать с собой подростков\". Этот фильм для детей постарше, которые могут выдержать немного больше действий и интенсивности.\n",
    "    \n",
    "    Not Rated: Это код для \"Мы понятия не имеем, что в этом фильме\". Это дикая карта, так что пристегнитесь и надейтесь на лучшее.\n",
    "    \n",
    "    G: \"Хорошо для всех\". Этот фильм безопасен даже для самых маленьких зрителей. Ожидайте много поющих животных и счастливых концовок.\n",
    "    \n",
    "    Passed: Этот знак - старый. Это означает, что фильм был одобрен цензорами, которые посчитали его \"Допустимым для публичного просмотра\".\n",
    "    \n",
    "    Approved: Еще один старый, но добрый фильм. Это означает, что цензоры сочли фильм \"Приемлемым для всех зрителей\".\n",
    "    \n",
    "    18+: Этот фильм не для слабонервных. Это как фильм с рейтингом R, но еще более напряженный. Оставьте детей дома и приготовьтесь прикрыть глаза.\n",
    "    \n",
    "    Not Available: Этот сертификат означает \"Вам придется посмотреть его и узнать\". Это тайна!\n",
    "    \n",
    "    TV-PG: \"Довольно хорошо для телевидения\". Это как сертификат PG для фильмов, но для телепередач. Идеально подходит для семейных ситкомов.\n",
    "    \n",
    "    Unrated: Это означает, что фильм еще не прошел цензуру. Смотрите на свой страх и риск!\n",
    "    \n",
    "    X: Это код для \"XXX-rated\". Ожидайте много секса и наготы. Определенно не для первого свидания.\n",
    "    \n",
    "    13+: Это для подростков и тинэйджеров. Это как PG-13, но для телевизионных шоу.\n",
    "    \n",
    "    TV-MA: \"Только для зрелой аудитории\". Это как фильм с рейтингом R, но для телешоу. Ожидайте много насилия, секса и нецензурной лексики.\n",
    "    \n",
    "    GP: Это означает \"Для широкой аудитории, рекомендуется родительское руководство\". Это как PG, но родители должны быть немного более вовлечены в процесс принятия решения о том, подходит ли это для их детей.\n",
    "    \n",
    "----------"
   ]
  },
  {
   "cell_type": "markdown",
   "id": "ab5d15e6",
   "metadata": {},
   "source": [
    "----------\n",
    "##### Рассмотрим как рейтинг фильмов влияет на доход.\n",
    "\n",
    "----------"
   ]
  },
  {
   "cell_type": "code",
   "execution_count": null,
   "id": "4284a46e",
   "metadata": {},
   "outputs": [],
   "source": [
    "df_rat_bo = df_imdb[['name', 'certificate']]\n",
    "df_rat_bo['box_office'] = df_imdb[df_imdb['box_office'].str.isnumeric()]['box_office'].apply(int)\n",
    "\n",
    "plt.figure(figsize=(10, 5), dpi=200)\n",
    "plt.title('Доход фильмов в миллиардах')\n",
    "plt.xticks(rotation=30)\n",
    "\n",
    "sns.scatterplot(data=df_rat_bo[df_rat_bo['box_office'].notna()], x='certificate', y='box_office');\n"
   ]
  },
  {
   "cell_type": "markdown",
   "id": "68dfa78b",
   "metadata": {},
   "source": [
    "\n",
    "\n",
    "На графике можно увидеть, что доход свыше полумиллиарда, принадлежит примущественно фильмам с семейным рейтингом, на который можно взять детей и не бояться, что они смогут увидеть что-либо запрещенное. Тогда как фильмы с рейтинком R, собирает в основном кассу до полумиллиарда и изредка больше.\n",
    "\n",
    "\n",
    "Для того, чтобы убедиться в том, что семейные фильмы действительно приносят больше дохода, чем остальные. Найдем среднее по каждому из рейтингов.\n",
    "\n"
   ]
  },
  {
   "cell_type": "code",
   "execution_count": null,
   "id": "c2d82807",
   "metadata": {},
   "outputs": [],
   "source": [
    "df_rat_bo[df_rat_bo['box_office'].notna()].\\\n",
    "                    groupby(by='certificate').mean().\\\n",
    "                    sort_values(by='box_office', ascending=False)"
   ]
  },
  {
   "cell_type": "markdown",
   "id": "87840c2b",
   "metadata": {},
   "source": [
    "\n",
    "\n",
    "Как мы видим по выводу, фильмы с возрастной категорией для детей и подростков - PG-13, G и PG действительно зарабатывают денег больше чем остальные фильмы в других категориях.\n",
    "\n",
    "----------"
   ]
  },
  {
   "cell_type": "markdown",
   "id": "b6806b22",
   "metadata": {},
   "source": [
    "----------\n",
    "Так же наблюдается заметный выброс кассы в возрастном рейтиге 'PG-13', давайте взглянем на этот фильм."
   ]
  },
  {
   "cell_type": "code",
   "execution_count": null,
   "id": "588fc58a",
   "metadata": {},
   "outputs": [],
   "source": [
    "df_rat_bo.nlargest(1, 'box_office')"
   ]
  },
  {
   "cell_type": "markdown",
   "id": "136945bf",
   "metadata": {},
   "source": [
    "В результате можем видеть фильм Avengers: Endgame вышедший в 2019 году, который по используемым данным на тот момент собрал кассу в 2.8 миллиарда долларов. \n",
    "\n",
    "----------"
   ]
  },
  {
   "cell_type": "markdown",
   "id": "958d354c",
   "metadata": {},
   "source": [
    "## Вывод:\n",
    "\n",
    "- Из csv-файла извлекли необходмые данные - пропуски и дубликаты не были обнаружены.\n",
    "\n",
    "\n",
    "- Были проведены иследование по жанрам:\n",
    "\n",
    "     - Средние значения рейтинга по жанрам. Жанры, которые имеют в среднем рейтинг выше других - Adventure, Western и Action, Adventure, Drama\n",
    "     - Средние значения сборов кассы по жанрам. Жанры, которые в среднем зарабатывают больше всех - Action, Adventure, Drama\n",
    "     - К каким жанрам относятся 10 самых высокооцененных фильмов. Жанры - Crime, Drama чаще других находится в рейтинге 10 самых оценненых фильмов.\n",
    "\n",
    "\n",
    "- Был проведен анализ по режиссерам:\n",
    "\n",
    "     - Рассчитан средний доход фильма по каждому режиссеру. Выше всех средний доход по фильмам принадлежит братьям Anthony Russo и Joe Russo.\n",
    "     \n",
    "     - Были найдены режиссеры, чаще всего попадающие в этот топ. Akira Kurosawa, Christopher Nolan, Martin Scorsese, Stanley Kubrick и Steven Spielberg удостоились чести попасть в рейтинг по 7 раз каждый.\n",
    "\n",
    "     - Найдены режиссеры 10-ти самых высокооцененных фильмов. Примечательно, что Francis Ford Coppola и Peter Jackson дважды вошли в этот список.\n",
    "     \n",
    "     - Был посчитан общий доход фильмов по каждому режиссеру в миллиардах. Больше всех принесли доход фильмы братьев Anthony Russo и Joe Russo.\n",
    "     \n",
    "\n",
    "- Был проведен анализ по возрастному рейтингу:\n",
    "\n",
    "     - Больше всего фильмов находившихся в этом рейтинге, приходится на возрастной рейтинг R - Этот сертификат означает \"Действительно, действительно не для детей\". Ожидайте много насилия и сквернословия.\n",
    "\n",
    "     - Было рассмотрено как рейтинг влияет на доход. Чаще всего фильмы с семейным рейтигном, куда родители могут взять детей зарабатывают больше полумиллирда долларов. И в среднем зарабатывают больше остальных.\n",
    "\n",
    "     - Самым кассовым фильмом в топе является фильм Avengers: Endgame вышедший в 2019 году, который заработал 2.8 миллиарда долларов и у которого рейтинг PG-13: \"Родителям настоятельно рекомендуется брать с собой подростков\". Этот фильм для детей постарше, которые могут выдержать немного больше действий и интенсивности."
   ]
  },
  {
   "cell_type": "code",
   "execution_count": null,
   "id": "719686b9",
   "metadata": {},
   "outputs": [],
   "source": []
  }
 ],
 "metadata": {
  "kernelspec": {
   "display_name": "Python 3 (ipykernel)",
   "language": "python",
   "name": "python3"
  },
  "language_info": {
   "codemirror_mode": {
    "name": "ipython",
    "version": 3
   },
   "file_extension": ".py",
   "mimetype": "text/x-python",
   "name": "python",
   "nbconvert_exporter": "python",
   "pygments_lexer": "ipython3",
   "version": "3.9.13"
  }
 },
 "nbformat": 4,
 "nbformat_minor": 5
}
